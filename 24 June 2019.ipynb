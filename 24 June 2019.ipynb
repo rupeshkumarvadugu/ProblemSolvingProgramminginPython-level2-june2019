{
 "cells": [
  {
   "cell_type": "code",
   "execution_count": 5,
   "metadata": {},
   "outputs": [
    {
     "name": "stdout",
     "output_type": "stream",
     "text": [
      "13\n",
      "Motu\n"
     ]
    }
   ],
   "source": [
    "# program for motu patlu in hacker earth\n",
    "\n",
    "n = int(input())\n",
    "# m=0\n",
    "# p=0\n",
    "for i in range(n):\n",
    "    if p == i and m == i*2:\n",
    "        print(\"Motu\")\n",
    "    "
   ]
  },
  {
   "cell_type": "code",
   "execution_count": null,
   "metadata": {},
   "outputs": [],
   "source": [
    "# Frequency distribution problem using dictionary\n",
    "\n",
    "def frequencyDistributionOfWords(filepath):\n",
    "    # Dictionary to be used\n",
    "        # Keys -> Unique Words\n",
    "        # Values -> Count of Unique Words\n",
    "    allwords = wordsFromFile(filepath)\n",
    "    wordFrequency = {}\n",
    "    \n",
    "    for word in allWords:\n",
    "        if word not in wordFrequency.keys():\n",
    "            wordFrequency[word] = 1\n",
    "        else:\n",
    "            wordFrequency[word] += 1\n",
    "    return wordFrequency\n",
    "frequencyDistributionOfWords(filepath)\n",
    "    \n",
    "        \n",
    "    # Two Lists\n",
    "        # All Words List ->\n",
    "        # Unique Words List ->\n",
    "        \n",
    "    # Set\n",
    "    allwords = wordsFromFile(filepath)\n",
    "    uniquewords = uniqueData(filepath)"
   ]
  },
  {
   "cell_type": "code",
   "execution_count": null,
   "metadata": {},
   "outputs": [],
   "source": [
    "# Contacts Application\n",
    "    # Add, Search, List, Modify, Delete Contacts\n",
    "    \n",
    "# Find and Replace Application\n",
    "    # Count the Total Number of Occurances\n",
    "    # If Word is Existing\n",
    "    # Replace all Occurances of a word with Another word\n",
    "    \n",
    "# Marks Analysis Application\n",
    "    # Generate Marks File for n students\n",
    "    # Input : Marks text file - Each line contains marks of one student\n",
    "    # Generates a report with the following information\n",
    "        # Class Average\n",
    "        # % of Students Passed\n",
    "        # % of Students Failed \n",
    "        # % of Students with Distinction\n",
    "        "
   ]
  },
  {
   "cell_type": "code",
   "execution_count": 9,
   "metadata": {},
   "outputs": [],
   "source": [
    "# Function to generate marks data for n students\n",
    "from random import randint\n",
    "def generateMarks(n, lb,ub):\n",
    "    with open('DataFiles/marks.txt', 'w') as f:\n",
    "        for i in range (0,n):\n",
    "            r = randint(lb, ub)\n",
    "            f.write(str(r) + '\\n')\n",
    "    return\n",
    "\n",
    "generateMarks(5,0,75)"
   ]
  },
  {
   "cell_type": "code",
   "execution_count": null,
   "metadata": {},
   "outputs": [],
   "source": []
  }
 ],
 "metadata": {
  "kernelspec": {
   "display_name": "Python 3",
   "language": "python",
   "name": "python3"
  },
  "language_info": {
   "codemirror_mode": {
    "name": "ipython",
    "version": 3
   },
   "file_extension": ".py",
   "mimetype": "text/x-python",
   "name": "python",
   "nbconvert_exporter": "python",
   "pygments_lexer": "ipython3",
   "version": "3.7.3"
  }
 },
 "nbformat": 4,
 "nbformat_minor": 2
}
