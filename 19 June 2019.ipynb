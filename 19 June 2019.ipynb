{
 "cells": [
  {
   "cell_type": "markdown",
   "metadata": {},
   "source": [
    "### Practice Session : Basic Problem Set"
   ]
  },
  {
   "cell_type": "code",
   "execution_count": 3,
   "metadata": {},
   "outputs": [
    {
     "name": "stdout",
     "output_type": "stream",
     "text": [
      "3\n",
      "3\n",
      "2 1\n",
      "1 2\n",
      "2 9\n",
      "4\n",
      "1\n",
      "8 1\n",
      "8\n",
      "3\n",
      "2 5\n",
      "1 4\n",
      "1 5\n",
      "1\n"
     ]
    }
   ],
   "source": [
    "# Function for recursive sum\n",
    "\n",
    "def recursiveSums():\n",
    "    ntest = int(input())\n",
    "    total = 0\n",
    "    for j in range(ntest):\n",
    "        d = input().split()\n",
    "        a = int(d[0])\n",
    "        b = int(d[1])\n",
    "        total = total + a * b\n",
    "    if total <= 9:\n",
    "        return total\n",
    "    else:\n",
    "            while total > 9:\n",
    "                check = list(str(total))\n",
    "                check = [int(x) for x in check]\n",
    "                total = sum(check)\n",
    "            return total\n",
    "        \n",
    "n = int(input())\n",
    "for i in range(n):\n",
    "    print(recursiveSums())\n",
    "        \n",
    "        "
   ]
  },
  {
   "cell_type": "code",
   "execution_count": null,
   "metadata": {},
   "outputs": [],
   "source": []
  },
  {
   "cell_type": "code",
   "execution_count": 4,
   "metadata": {},
   "outputs": [
    {
     "name": "stdout",
     "output_type": "stream",
     "text": [
      "1\n",
      "4\n",
      "B\n"
     ]
    }
   ],
   "source": [
    "# Lift Problem\n",
    "\n",
    "la = int(input())\n",
    "for i in range(0,la):\n",
    "    lb = int(input())\n",
    "    if lb < 4 or lb > 4:\n",
    "        print(\"A\")\n",
    "    elif lb == 4:\n",
    "        print(\"B\")\n",
    "\n"
   ]
  },
  {
   "cell_type": "code",
   "execution_count": 15,
   "metadata": {},
   "outputs": [
    {
     "name": "stdout",
     "output_type": "stream",
     "text": [
      "5 \n",
      "1 2 3 4 5\n",
      "120\n"
     ]
    }
   ],
   "source": [
    "# Function to print Find Product\n",
    "\n",
    "p = int(input())\n",
    "q = input().split() # [1 2 3 4 5]\n",
    "# o = q.split()\n",
    "sum = 1\n",
    "for i in range(0, p): # for i in q:\n",
    "    sum = (sum * int(q[i])) % (10**9 + 7)\n",
    "print(sum)\n",
    "    \n",
    "   \n",
    "    \n",
    "    "
   ]
  },
  {
   "cell_type": "code",
   "execution_count": 11,
   "metadata": {},
   "outputs": [
    {
     "name": "stdout",
     "output_type": "stream",
     "text": [
      "1 2 3 4 5 \n",
      "['1', '2', '3', '4', '5']\n"
     ]
    }
   ],
   "source": [
    "l = input()\n",
    "b = l.split()\n",
    "print(b)"
   ]
  },
  {
   "cell_type": "code",
   "execution_count": 22,
   "metadata": {},
   "outputs": [
    {
     "name": "stdout",
     "output_type": "stream",
     "text": [
      "102569\n",
      "Illegal ISBN\n"
     ]
    }
   ],
   "source": [
    "# Book of potion Making\n",
    "n= input()\n",
    "b = list(n)\n",
    "c = 1\n",
    "sum = 0\n",
    "for i in range(0, len(b)):\n",
    "    sum += c * int(b[i])\n",
    "    c += 1\n",
    "    \n",
    "if sum % 11 == 0:\n",
    "    print(\"Legal ISBN\")\n",
    "else:\n",
    "    print(\"Illegal ISBN\")\n",
    "    "
   ]
  },
  {
   "cell_type": "code",
   "execution_count": 5,
   "metadata": {},
   "outputs": [
    {
     "data": {
      "text/plain": [
       "['1', '4', '0', '1', '6', '0', '1', '4', '9', '9']"
      ]
     },
     "execution_count": 5,
     "metadata": {},
     "output_type": "execute_result"
    }
   ],
   "source": [
    "l = \"1401601499\"\n",
    "a= list(l)\n",
    "a"
   ]
  },
  {
   "cell_type": "code",
   "execution_count": null,
   "metadata": {},
   "outputs": [],
   "source": []
  }
 ],
 "metadata": {
  "kernelspec": {
   "display_name": "Python 3",
   "language": "python",
   "name": "python3"
  },
  "language_info": {
   "codemirror_mode": {
    "name": "ipython",
    "version": 3
   },
   "file_extension": ".py",
   "mimetype": "text/x-python",
   "name": "python",
   "nbconvert_exporter": "python",
   "pygments_lexer": "ipython3",
   "version": "3.7.3"
  }
 },
 "nbformat": 4,
 "nbformat_minor": 2
}
