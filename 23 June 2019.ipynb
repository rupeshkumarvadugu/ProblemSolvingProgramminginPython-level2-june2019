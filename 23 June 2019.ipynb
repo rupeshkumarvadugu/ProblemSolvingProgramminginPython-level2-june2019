{
 "cells": [
  {
   "cell_type": "code",
   "execution_count": null,
   "metadata": {},
   "outputs": [],
   "source": []
  },
  {
   "cell_type": "code",
   "execution_count": 6,
   "metadata": {},
   "outputs": [
    {
     "data": {
      "text/plain": [
       "['abcdbcdf jnhsoijfs jnddfiopsakfka',\n",
       " 'cdfe [pksdpf knkdsmfzx kmkldmfz',\n",
       " 'dudjh podopkfopks',\n",
       " 'kkzkzoksfd  kimpozdv',\n",
       " ' dudjhk poskzfka',\n",
       " 'djhbbkjg klmoizdv',\n",
       " 'okpokfzpox jfxclzxcpozkxpoc mioziovj noizxvkmo lkmipodzxokcpovmpzk mpokz ']"
      ]
     },
     "execution_count": 6,
     "metadata": {},
     "output_type": "execute_result"
    }
   ],
   "source": [
    "# Function to read data in a text file\n",
    "\n",
    "def readFileIntoList(filepath):\n",
    "    with open(filepath, 'r') as f:\n",
    "        filedata = f.read()\n",
    "        lines = filedata.split('\\n')\n",
    "        #lines = []\n",
    "        #for line in f:\n",
    "            #lines.append(line)\n",
    "    return lines\n",
    "\n",
    "filepath = 'DataFiles/data.txt'\n",
    "readFileIntoList(filepath)"
   ]
  },
  {
   "cell_type": "code",
   "execution_count": 4,
   "metadata": {},
   "outputs": [
    {
     "data": {
      "text/plain": [
       "7"
      ]
     },
     "execution_count": 4,
     "metadata": {},
     "output_type": "execute_result"
    }
   ],
   "source": [
    "# Function to count number of lines in a text file\n",
    "\n",
    "def countLinesFile(filepath):\n",
    "    count = len(readFileIntoList(filepath))\n",
    "    return count\n",
    "\n",
    "countLinesFile(filepath)"
   ]
  },
  {
   "cell_type": "code",
   "execution_count": 3,
   "metadata": {},
   "outputs": [
    {
     "name": "stdout",
     "output_type": "stream",
     "text": [
      "['abcdbcdf', 'jnhsoijfs', 'jnddfiopsakfka', 'cdfe', '[pksdpf', 'knkdsmfzx', 'kmkldmfz', 'dudjh', 'podopkfopks', 'kkzkzoksfd', 'kimpozdv', 'dudjhk', 'poskzfka', 'djhbbkjg', 'klmoizdv', 'okpokfzpox', 'jfxclzxcpozkxpoc', 'mioziovj', 'noizxvkmo', 'lkmipodzxokcpovmpzk', 'mpokz']\n",
      "abcdbcdf jnhsoijfs jnddfiopsakfka cdfe [pksdpf knkdsmfzx kmkldmfz dudjh podopkfopks kkzkzoksfd kimpozdv dudjhk poskzfka djhbbkjg klmoizdv okpokfzpox jfxclzxcpozkxpoc mioziovj noizxvkmo lkmipodzxokcpovmpzk mpokz 21\n",
      "None\n"
     ]
    }
   ],
   "source": [
    "# Function to print unique words in a file\n",
    "\n",
    "def readFile(filepath):\n",
    "    uniqueword = []\n",
    "    with open(filepath, 'r') as f:\n",
    "        filedata = f.read().split()\n",
    "        print(filedata)\n",
    "        for word in filedata:\n",
    "            if(filedata.count(word) == 1) and (word not in uniqueword):\n",
    "                uniqueword.append(word)\n",
    "            else:\n",
    "                continue\n",
    "        c = 0\n",
    "        for a in uniqueword:\n",
    "            print(a,end = \" \")\n",
    "            c += 1\n",
    "        print(c)\n",
    "        \n",
    "filepath ='DataFiles/data.txt'\n",
    "print(readFile(filepath))"
   ]
  },
  {
   "cell_type": "code",
   "execution_count": 20,
   "metadata": {},
   "outputs": [
    {
     "data": {
      "text/plain": [
       "[1, 2, 3]"
      ]
     },
     "execution_count": 20,
     "metadata": {},
     "output_type": "execute_result"
    }
   ],
   "source": [
    "# Function to get unique elements in a list\n",
    "\n",
    "#[1,2,3,3,2,1] -> [1,2,3]\n",
    "# Create a empty unique list [1,2,3]\n",
    "\n",
    "def uniqueData(li):\n",
    "    # Create an empty unique list\n",
    "    unique = []\n",
    "    \n",
    "    # For Every Element in the main list,\n",
    "     # Check if it is exists in the unique list\n",
    "     # if id does not exist, add it to unique list\n",
    "     # else if it is already exists, move on to the next element in the main list\n",
    "        \n",
    "    for element in li:\n",
    "        if element not in unique:\n",
    "            unique.append(element)\n",
    "    return unique\n",
    "\n",
    "li = [1,2,3,3,2,1]\n",
    "uniqueData(li)"
   ]
  },
  {
   "cell_type": "code",
   "execution_count": 23,
   "metadata": {},
   "outputs": [
    {
     "name": "stdout",
     "output_type": "stream",
     "text": [
      "['abcdbcdf', 'jnhsoijfs', 'jnddfiopsakfka', 'cdfe', '[pksdpf', 'knkdsmfzx', 'kmkldmfz', 'dudjh', 'podopkfopks', 'kkzkzoksfd', 'kimpozdv', 'dudjhk', 'poskzfka', 'djhbbkjg', 'klmoizdv', 'okpokfzpox', 'jfxclzxcpozkxpoc', 'mioziovj', 'noizxvkmo', 'lkmipodzxokcpovmpzk', 'mpokz']\n",
      "21\n"
     ]
    }
   ],
   "source": [
    "# Function to print number of unique words in a file\n",
    "\n",
    "count = 0\n",
    "unique = []\n",
    "f = open('DataFiles/data.txt')\n",
    "p =f.read().split()\n",
    "for i in p:\n",
    "    if i not in unique:\n",
    "        unique.append(i)\n",
    "print(unique)        \n",
    "print(len(unique))\n"
   ]
  },
  {
   "cell_type": "code",
   "execution_count": 7,
   "metadata": {},
   "outputs": [
    {
     "name": "stdout",
     "output_type": "stream",
     "text": [
      "['data', 'in', 'line', '1', 'data', 'in', 'line', '2', 'data', 'in', 'line', '3', 'data', 'in', 'line', '5']\n",
      "['data', 'in', 'line', '1', '2', '3', '5']\n",
      "data : 4\n",
      "in : 4\n",
      "line : 4\n",
      "1 : 1\n",
      "2 : 1\n",
      "3 : 1\n",
      "5 : 1\n"
     ]
    }
   ],
   "source": [
    "# Function to print the frequency count of a text file\n",
    "# Frequency Distribution\n",
    "\n",
    "# Data in line 1\n",
    "# Data in line 2\n",
    "# Data in line 3\n",
    "# o/p\n",
    "# Data :3\n",
    "# in : 3\n",
    "# Line : 3\n",
    "# 1 : 1\n",
    "# 2 : 1\n",
    "# 3 : 1\n",
    "\n",
    "#l = input(\" enter unique word\")\n",
    "count = 0\n",
    "unique = []\n",
    "f = open(\"DataFiles/lines.txt\")\n",
    "p = f.read().split()\n",
    "print(p)\n",
    "for i in p:\n",
    "    if i not in unique:\n",
    "        unique.append(i)\n",
    "print(unique)   \n",
    "for word in unique:\n",
    "    c = p.count(word)\n",
    "    print(word, \":\", c)\n",
    "\n",
    "\n"
   ]
  },
  {
   "cell_type": "code",
   "execution_count": null,
   "metadata": {},
   "outputs": [],
   "source": []
  }
 ],
 "metadata": {
  "kernelspec": {
   "display_name": "Python 3",
   "language": "python",
   "name": "python3"
  },
  "language_info": {
   "codemirror_mode": {
    "name": "ipython",
    "version": 3
   },
   "file_extension": ".py",
   "mimetype": "text/x-python",
   "name": "python",
   "nbconvert_exporter": "python",
   "pygments_lexer": "ipython3",
   "version": "3.7.3"
  }
 },
 "nbformat": 4,
 "nbformat_minor": 2
}
