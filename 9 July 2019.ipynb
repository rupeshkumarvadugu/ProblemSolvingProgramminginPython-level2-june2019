{
 "cells": [
  {
   "cell_type": "code",
   "execution_count": 16,
   "metadata": {},
   "outputs": [
    {
     "name": "stdout",
     "output_type": "stream",
     "text": [
      "1 2 3 4 5 6 7 8 9 "
     ]
    }
   ],
   "source": [
    "# Print natural numbers\n",
    "i = 1\n",
    "while(i<10):\n",
    "    print(i,end=\" \")\n",
    "    i+=1\n"
   ]
  },
  {
   "cell_type": "code",
   "execution_count": 17,
   "metadata": {},
   "outputs": [
    {
     "name": "stdout",
     "output_type": "stream",
     "text": [
      "enter a value10\n",
      "55\n"
     ]
    }
   ],
   "source": [
    "# print sum of natural numbers\n",
    "n = int(input(\"enter a value\"))\n",
    "sum = 0\n",
    "while(n>0):\n",
    "    sum += n\n",
    "    n -= 1\n",
    "print(sum)"
   ]
  },
  {
   "cell_type": "code",
   "execution_count": 19,
   "metadata": {},
   "outputs": [
    {
     "name": "stdout",
     "output_type": "stream",
     "text": [
      "24 30 36 "
     ]
    }
   ],
   "source": [
    "#divisible by number in a given range\n",
    "def divisible(lb,ub):\n",
    "    for i in range(lb,ub):\n",
    "        if i%6==0 and i%100!=0:\n",
    "            print(i, end=\" \")\n",
    "divisible(20,40)"
   ]
  },
  {
   "cell_type": "code",
   "execution_count": 29,
   "metadata": {},
   "outputs": [
    {
     "name": "stdout",
     "output_type": "stream",
     "text": [
      "2\n"
     ]
    }
   ],
   "source": [
    "# factors of a number in given range\n",
    "a = 10\n",
    "b = 15\n",
    "n = 0\n",
    "for i in range(1,min(a,b)+1):\n",
    "    if a%i==b%i==0:\n",
    "        n += 1\n",
    "print(n)\n",
    "    "
   ]
  },
  {
   "cell_type": "code",
   "execution_count": 31,
   "metadata": {},
   "outputs": [
    {
     "name": "stdout",
     "output_type": "stream",
     "text": [
      "12 18 "
     ]
    }
   ],
   "source": [
    "# divisible by 6 but not by 100\n",
    "def div(lb,ub):\n",
    "    for i in range(lb,ub+1):\n",
    "        if i%6==0 and i%100!=0:\n",
    "            print(i,end= \" \")\n",
    "            i+=1\n",
    "div(10,23)"
   ]
  },
  {
   "cell_type": "code",
   "execution_count": 39,
   "metadata": {},
   "outputs": [
    {
     "data": {
      "text/plain": [
       "3900.0"
      ]
     },
     "execution_count": 39,
     "metadata": {},
     "output_type": "execute_result"
    }
   ],
   "source": [
    "# avg of cubes of all even numbers\n",
    "def avg(lb,ub):\n",
    "    total = 0\n",
    "    count = 0\n",
    "    for i in range(lb,ub+1):\n",
    "        if i%2==0:\n",
    "            total += i**3\n",
    "            count += 1\n",
    "    return total/count\n",
    "avg(10,20)"
   ]
  },
  {
   "cell_type": "code",
   "execution_count": 41,
   "metadata": {},
   "outputs": [
    {
     "name": "stdout",
     "output_type": "stream",
     "text": [
      "36\n",
      "33\n",
      "76\n",
      "EXIT\n",
      "36 76\n",
      "76\n"
     ]
    }
   ],
   "source": [
    "# Hacker Earth problem set\n",
    "li = []\n",
    "while True:\n",
    "    n = input()\n",
    "    if n == \"EXIT\":\n",
    "        break\n",
    "    elif int(n)%2 == 0:\n",
    "        li.append(int(n))\n",
    "print(\" \".join(map(str,li)))\n",
    "print(max(li))"
   ]
  },
  {
   "cell_type": "code",
   "execution_count": null,
   "metadata": {},
   "outputs": [],
   "source": []
  },
  {
   "cell_type": "code",
   "execution_count": null,
   "metadata": {},
   "outputs": [],
   "source": []
  }
 ],
 "metadata": {
  "kernelspec": {
   "display_name": "Python 3",
   "language": "python",
   "name": "python3"
  },
  "language_info": {
   "codemirror_mode": {
    "name": "ipython",
    "version": 3
   },
   "file_extension": ".py",
   "mimetype": "text/x-python",
   "name": "python",
   "nbconvert_exporter": "python",
   "pygments_lexer": "ipython3",
   "version": "3.7.3"
  }
 },
 "nbformat": 4,
 "nbformat_minor": 2
}
