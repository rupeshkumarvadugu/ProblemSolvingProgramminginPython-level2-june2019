{
 "cells": [
  {
   "cell_type": "code",
   "execution_count": null,
   "metadata": {},
   "outputs": [],
   "source": [
    "s = \"a\"\n",
    "  \n",
    "s.islower() # Check the case of a charecter\n",
    "s.isupper() # \n",
    "\n",
    "s.lower() # Convert a character to lowercase\n",
    "s.upper() # Convert a character to uppercase\n"
   ]
  },
  {
   "cell_type": "code",
   "execution_count": null,
   "metadata": {},
   "outputs": [],
   "source": [
    "# Two Strings\n",
    "\n",
    "n=(input())\n",
    "def twostrings(f,s):\n",
    "    f1=1\n",
    "    if len(f)!=len(s):\n",
    "        return 'NO'\n",
    "    else:\n",
    "        for i in range(len(f)):\n",
    "            if f.count(f[i])!=s.count(f[i]):\n",
    "                return 'NO'\n",
    "        if f1==1:\n",
    "                return 'YES'\n",
    "for i in range(n):\n",
    "    st=input().split()\n",
    "    f=st[0]\n",
    "    s=st[1]\n",
    "    print(twostrings(f,s))"
   ]
  },
  {
   "cell_type": "markdown",
   "metadata": {},
   "source": [
    "### Duration Problem\n",
    "\n",
    "- input: start time, end time (HH, MM)\n",
    "    - HH - {00,0102...23}\n",
    "    - MM - {00,01,02, ... 59}\n",
    "    - HH MM - {00 00, 23,59}\n",
    "- output: time differance in HH MM"
   ]
  },
  {
   "cell_type": "code",
   "execution_count": 6,
   "metadata": {},
   "outputs": [
    {
     "name": "stdout",
     "output_type": "stream",
     "text": [
      "5 41\n"
     ]
    }
   ],
   "source": [
    "s= \"2 42 8 23\"\n",
    "def minute(s):\n",
    "    s = s.split()\n",
    "    sh = int(s[0])\n",
    "    sm = int(s[1])\n",
    "    eh = int(s[2])\n",
    "    em = int(s[3])\n",
    "    startminutes = (sh * 60) + sm\n",
    "    endminutes = (eh * 60) + em\n",
    "    return endminutes - startminutes\n",
    "\n",
    "def minOut(minutes):\n",
    "    # Convert minutes to HH MM\n",
    "    hh = minutes // 60\n",
    "    mm = minutes % 60\n",
    "    print(hh, mm)\n",
    "    return\n",
    "\n",
    "minutes = minute(s)\n",
    "minOut(minutes)"
   ]
  },
  {
   "cell_type": "code",
   "execution_count": 9,
   "metadata": {},
   "outputs": [
    {
     "name": "stdout",
     "output_type": "stream",
     "text": [
      "abcd\n",
      "10\n"
     ]
    }
   ],
   "source": [
    "def charsum(s):\n",
    "    sum=0\n",
    "    for i in s:\n",
    "        sum+=ord(i)-96\n",
    "    print(sum)\n",
    "charsum(input())"
   ]
  },
  {
   "cell_type": "code",
   "execution_count": 5,
   "metadata": {},
   "outputs": [
    {
     "name": "stdout",
     "output_type": "stream",
     "text": [
      "abc#2\n",
      "1\n",
      "3\n"
     ]
    }
   ],
   "source": [
    "def countDigit(s):\n",
    "    charcount = 0\n",
    "    digitcount = 0\n",
    "    for i in range(0, len(s)):\n",
    "        if((s[i]>='a' and s[i]<='z') or (s[i]>='A' and s[i]<='Z')):\n",
    "            charcount = charcount + 1\n",
    "        elif(ord(s[i])>=48 and ord(s[i])<=57):\n",
    "             digitcount = digitcount+1\n",
    "    print(digitcount)\n",
    "    print(charcount)\n",
    "             \n",
    "s = input()\n",
    "countDigit(s)"
   ]
  },
  {
   "cell_type": "code",
   "execution_count": null,
   "metadata": {},
   "outputs": [
    {
     "name": "stdout",
     "output_type": "stream",
     "text": [
      "2\n",
      "28\n",
      "YES\n"
     ]
    }
   ],
   "source": [
    "def factors(n):\n",
    "    s = 0\n",
    "    for i in range(1,n):\n",
    "        if (n%i==0):\n",
    "            s = s+i\n",
    "    if (n == s):\n",
    "        return \"YES\"\n",
    "    else:\n",
    "        return \"NO\"\n",
    "    \n",
    "a = int(input())\n",
    "for i in range(a):\n",
    "    n = int(input())\n",
    "    print(factors(n))\n",
    "    "
   ]
  },
  {
   "cell_type": "code",
   "execution_count": null,
   "metadata": {},
   "outputs": [],
   "source": []
  },
  {
   "cell_type": "code",
   "execution_count": 6,
   "metadata": {},
   "outputs": [
    {
     "name": "stdout",
     "output_type": "stream",
     "text": [
      "2\n",
      "5\n",
      "3\n",
      "4\n",
      "3\n"
     ]
    }
   ],
   "source": [
    "def highrem(n): # 5\n",
    "    r = 0\n",
    "    for i in range(1,n):\n",
    "        rem = n%i #5%1=0,5%2=1,5%3=2,5%4=1\n",
    "        if rem>r:#1>0 2>1 1!>=2\n",
    "            r = rem #r=1 r=2\n",
    "            j = i #j=2 j=3\n",
    "    return j\n",
    "\n",
    "t = int(input())\n",
    "for i in range(t):\n",
    "    n = int(input())\n",
    "    print(highrem(n))"
   ]
  },
  {
   "cell_type": "code",
   "execution_count": 13,
   "metadata": {},
   "outputs": [
    {
     "name": "stdout",
     "output_type": "stream",
     "text": [
      "YES\n"
     ]
    }
   ],
   "source": [
    "def primeNo(n):\n",
    "    fc = 0\n",
    "    for k in range(1,n+1):\n",
    "        n = k\n",
    "        c = 0\n",
    "        for i in range(1,n+1):\n",
    "            if(n%i==0):\n",
    "                c=c+1\n",
    "        if(c==2):\n",
    "            fc = fc+1\n",
    "    if (fc==2):\n",
    "        print(\"YES\")\n",
    "    else:\n",
    "        print(\"NO\")\n",
    "\n",
    "primeNo(4)"
   ]
  },
  {
   "cell_type": "code",
   "execution_count": null,
   "metadata": {},
   "outputs": [],
   "source": []
  },
  {
   "cell_type": "markdown",
   "metadata": {},
   "source": [
    " ### Problem: Play with numbers\n",
    " \n",
    "- Line 1: array size(n), no of queries(q)\n",
    "- Line 2: n array elements\n",
    "- next q lines: Queary - sub array of the original"
   ]
  }
 ],
 "metadata": {
  "kernelspec": {
   "display_name": "Python 3",
   "language": "python",
   "name": "python3"
  }
 },
 "nbformat": 4,
 "nbformat_minor": 2
}
