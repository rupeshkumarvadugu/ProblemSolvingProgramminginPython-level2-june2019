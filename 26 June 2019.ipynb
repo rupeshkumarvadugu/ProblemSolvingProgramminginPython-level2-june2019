{
 "cells": [
  {
   "cell_type": "code",
   "execution_count": 4,
   "metadata": {},
   "outputs": [],
   "source": [
    "import re\n",
    "def phonenumber(number):\n",
    "    pattern='^[6-9][0-9]{9}$|^[0][6-9][0-9]{9}$ | ^[+][9][1][6-9][0-9]{9}$'\n",
    "    if re.match(pattern,str(number)):\n",
    "        return True\n",
    "    else:\n",
    "        return False"
   ]
  },
  {
   "cell_type": "code",
   "execution_count": 5,
   "metadata": {},
   "outputs": [],
   "source": [
    "def verifiedmail(email):\n",
    "    pattern='^[0-9a-z][0-9a-z.]{4,13}[0-9a-z][@][0-9a-z]{3,18}[.][a-z]{2,4}$'\n",
    "    if re.match(pattern,email):\n",
    "        return True\n",
    "    return False\n",
    "#verifiedmail(\"_12345@gmail.com\")"
   ]
  },
  {
   "cell_type": "code",
   "execution_count": 6,
   "metadata": {},
   "outputs": [],
   "source": [
    "def contactExists(name):\n",
    "    filename = 'DataFiles/contacts.txt'\n",
    "    with open(filename, 'r') as f:\n",
    "        p = name+','\n",
    "        fd = f.read()\n",
    "        return re.search(p,fd)"
   ]
  },
  {
   "cell_type": "code",
   "execution_count": 7,
   "metadata": {},
   "outputs": [],
   "source": [
    "def addContact(name, phone, email):\n",
    "    filepath = 'DataFiles/contacts.txt'\n",
    "    if not contactExists():\n",
    "        if verifiedmail(email) and phonenumber(number):\n",
    "            with open(filepath, 'a') as f:\n",
    "                line = name+','+number+','+email+'\\n'\n",
    "                f.write(line)\n",
    "        print(name, \"is added to contacts list\")\n",
    "    else:\n",
    "        print(name, 'already exists')\n",
    "    return\n",
    "\n",
    "        \n",
    "        "
   ]
  },
  {
   "cell_type": "code",
   "execution_count": 23,
   "metadata": {},
   "outputs": [
    {
     "name": "stdout",
     "output_type": "stream",
     "text": [
      "contact not exists\n"
     ]
    }
   ],
   "source": [
    "import re\n",
    "def searchContact(name):\n",
    "    filepath = 'DataFiles/contacts.txt'\n",
    "    if contactExists(name):\n",
    "        with open(filepath,'r') as f:\n",
    "            fd = f.read()\n",
    "            #list = list(fd)\n",
    "            \n",
    "            #print(fd)\n",
    "            p = '[\\n]'\n",
    "            list = re.split(p, fd)\n",
    "            con = []\n",
    "            #print(list)\n",
    "            for i in range(len(list)):\n",
    "                    con = list[i].split(',')\n",
    "                    #print(con)\n",
    "                    if name in con:\n",
    "                        return con\n",
    "    else:\n",
    "        print(\"contact not exists\")\n",
    "        return\n",
    "                        \n",
    "searchContact('name')\n",
    "            "
   ]
  },
  {
   "cell_type": "code",
   "execution_count": null,
   "metadata": {},
   "outputs": [],
   "source": [
    "def SearchContact2(name):\n",
    "    filepath = 'DataFiles/contats.txt'\n"
   ]
  },
  {
   "cell_type": "code",
   "execution_count": 1,
   "metadata": {},
   "outputs": [
    {
     "ename": "TypeError",
     "evalue": "'list' object is not callable",
     "output_type": "error",
     "traceback": [
      "\u001b[1;31m---------------------------------------------------------------------------\u001b[0m",
      "\u001b[1;31mTypeError\u001b[0m                                 Traceback (most recent call last)",
      "\u001b[1;32m<ipython-input-1-d49e59c8bf20>\u001b[0m in \u001b[0;36m<module>\u001b[1;34m\u001b[0m\n\u001b[0;32m     11\u001b[0m     \u001b[1;32mreturn\u001b[0m\u001b[1;33m\u001b[0m\u001b[1;33m\u001b[0m\u001b[0m\n\u001b[0;32m     12\u001b[0m \u001b[1;33m\u001b[0m\u001b[0m\n\u001b[1;32m---> 13\u001b[1;33m \u001b[0mlisContacts\u001b[0m\u001b[1;33m(\u001b[0m\u001b[1;33m)\u001b[0m\u001b[1;33m\u001b[0m\u001b[1;33m\u001b[0m\u001b[0m\n\u001b[0m\u001b[0;32m     14\u001b[0m \u001b[1;33m\u001b[0m\u001b[0m\n",
      "\u001b[1;32m<ipython-input-1-d49e59c8bf20>\u001b[0m in \u001b[0;36mlisContacts\u001b[1;34m()\u001b[0m\n\u001b[0;32m      6\u001b[0m         \u001b[1;32mif\u001b[0m \u001b[0mlen\u001b[0m\u001b[1;33m(\u001b[0m\u001b[0mx\u001b[0m\u001b[1;33m)\u001b[0m \u001b[1;33m!=\u001b[0m \u001b[1;36m0\u001b[0m\u001b[1;33m:\u001b[0m\u001b[1;33m\u001b[0m\u001b[1;33m\u001b[0m\u001b[0m\n\u001b[0;32m      7\u001b[0m             \u001b[1;32mfor\u001b[0m \u001b[0mi\u001b[0m \u001b[1;32min\u001b[0m \u001b[0mrange\u001b[0m \u001b[1;33m(\u001b[0m\u001b[0mlen\u001b[0m\u001b[1;33m(\u001b[0m\u001b[0mx\u001b[0m\u001b[1;33m)\u001b[0m\u001b[1;33m)\u001b[0m\u001b[1;33m:\u001b[0m\u001b[1;33m\u001b[0m\u001b[1;33m\u001b[0m\u001b[0m\n\u001b[1;32m----> 8\u001b[1;33m                 \u001b[0mprint\u001b[0m\u001b[1;33m(\u001b[0m\u001b[0mx\u001b[0m\u001b[1;33m(\u001b[0m\u001b[0mi\u001b[0m\u001b[1;33m)\u001b[0m\u001b[1;33m)\u001b[0m\u001b[1;33m\u001b[0m\u001b[1;33m\u001b[0m\u001b[0m\n\u001b[0m\u001b[0;32m      9\u001b[0m         \u001b[1;32melse\u001b[0m\u001b[1;33m:\u001b[0m\u001b[1;33m\u001b[0m\u001b[1;33m\u001b[0m\u001b[0m\n\u001b[0;32m     10\u001b[0m             \u001b[0mprint\u001b[0m\u001b[1;33m(\u001b[0m\u001b[1;34m\"empty list of contacts\"\u001b[0m\u001b[1;33m)\u001b[0m\u001b[1;33m\u001b[0m\u001b[1;33m\u001b[0m\u001b[0m\n",
      "\u001b[1;31mTypeError\u001b[0m: 'list' object is not callable"
     ]
    }
   ],
   "source": [
    "# Lists Contacts\n",
    "def lisContacts():\n",
    "    filepath = 'DataFiles/contacts.txt'\n",
    "    with open(filepath,'r') as f:\n",
    "        x = f.read().split()\n",
    "        if len(x) != 0:\n",
    "            for i in range (len(x)):\n",
    "                print(x(i))\n",
    "        else:\n",
    "            print(\"empty list of contacts\")\n",
    "    return\n",
    "\n",
    "lisContacts()\n",
    "            "
   ]
  },
  {
   "cell_type": "code",
   "execution_count": 3,
   "metadata": {},
   "outputs": [
    {
     "data": {
      "text/plain": [
       "9"
      ]
     },
     "execution_count": 3,
     "metadata": {},
     "output_type": "execute_result"
    }
   ],
   "source": [
    "# Function to find the second largest number in a list\n",
    "\n",
    "def secondLargest(li):\n",
    "    # Convert the list into a unique list\n",
    "    # O(n)\n",
    "    unique = []\n",
    "    for n in li:\n",
    "        if n not in unique:\n",
    "            unique.append(n)\n",
    "    unique = sorted(unique, reverse = True)\n",
    "    return unique[1]\n",
    "    \n",
    "#li = [9,3,4,6,3,5,8]\n",
    "#secondLargest(li)\n",
    "\n",
    "# def fifthLeast(li):\n",
    "def fifthLeast(li):\n",
    "    unique = []\n",
    "    for n in li:\n",
    "        if n not in unique:\n",
    "            unique.append(n)\n",
    "    unique = sorted(unique, reverse = True)\n",
    "    print(unique)\n",
    "    if len(unique) >1:\n",
    "        return unique[4]\n",
    "    return -1\n",
    "\n",
    "\n",
    "li = [1,2,3,4,5,6,7,8]\n",
    "#fifthLeast(li)\n",
    "# def kLargest(li)\n",
    "\n",
    "def kSmallest(li, k):\n",
    "    # Extract unique elements in the list\n",
    "    unique = []\n",
    "    for i in li:\n",
    "        if i not in unique:\n",
    "            unique.append(i)\n",
    "            \n",
    "    # sort the unique list in ascending order\n",
    "    unique = sorted(unique)\n",
    "    \n",
    "    # check if length of unique list is greater than k\n",
    "    if len(unique) >= k:\n",
    "        return unique[k-1]\n",
    "    return -1\n",
    "\n",
    "kSmallest([3,3,9],2)\n",
    "\n",
    "    "
   ]
  },
  {
   "cell_type": "code",
   "execution_count": 14,
   "metadata": {},
   "outputs": [
    {
     "data": {
      "text/plain": [
       "1"
      ]
     },
     "execution_count": 14,
     "metadata": {},
     "output_type": "execute_result"
    }
   ],
   "source": [
    "# Function to identify the element with highest frequency in a list\n",
    "# if many elements have the highest frequency, return smallest\n",
    "# HighestFrequencyElement[1,2,3,9,8,7,3,4,2,1] -> 1\n",
    "\n",
    "def highestFrequency(li):\n",
    "    unique = {}\n",
    "    for i in li:\n",
    "        if i in unique:\n",
    "            unique[i] += 1\n",
    "        else:\n",
    "            unique[i] = 1\n",
    "    freq =  unique.values()\n",
    "    maxfreq = max(freq)\n",
    "    maxfreqkeys = []\n",
    "    for item in unique.items():\n",
    "        if item[1] == maxfreq:\n",
    "            maxfreqkeys.append(item[0])\n",
    "    return min(maxfreqkeys)\n",
    "            \n",
    "    #print(unique)\n",
    "    \n",
    "highestFrequency(li =[1,2,3,9,8,7,3,4,2,1])\n",
    "\n"
   ]
  },
  {
   "cell_type": "code",
   "execution_count": 13,
   "metadata": {},
   "outputs": [
    {
     "name": "stdout",
     "output_type": "stream",
     "text": [
      "{22: 1, 34: 1, 55: 1, 80: 3, 20: 1, 45: 1, 65: 1, 90: 1}\n"
     ]
    }
   ],
   "source": [
    "# Second Solution\n",
    "\n",
    "# def highestFrequency(li):\n",
    "#     unique = {}\n",
    "#     for i in li:\n",
    "#         if i in unique:\n",
    "#             unique[i] += 1\n",
    "#         else:\n",
    "#             unique[i] = 1\n",
    "            \n",
    "#     print(unique)\n",
    "    \n",
    "# highestFrequency(li =[1,2,3,9,8,7,3,4,2,1])\n",
    "\n",
    "def highestFrequency1(li):\n",
    "    unique = []\n",
    "    for n in li:\n",
    "        if n not in unique:\n",
    "            unique.append(n)\n",
    "    unique = sorted(unique,reverse = True)\n",
    "    highest = unique[0]\n",
    "    c = 0\n",
    "    for i in range(0,len(li)):\n",
    "        if li[i] == highest:\n",
    "            c+=1\n",
    "    #c = unique.count(unique[0])\n",
    "    return c\n",
    "highestFrequency([22,34,55,80,80,20,80,45,65,90])"
   ]
  },
  {
   "cell_type": "code",
   "execution_count": 16,
   "metadata": {},
   "outputs": [
    {
     "name": "stdout",
     "output_type": "stream",
     "text": [
      "2\n",
      "1\n"
     ]
    },
    {
     "data": {
      "text/plain": [
       "3"
      ]
     },
     "execution_count": 16,
     "metadata": {},
     "output_type": "execute_result"
    }
   ],
   "source": [
    "# Function to identify second highest frequency element in a list\n",
    "# if there are many such elements, return the smallest\n",
    "# [1,2,3,2,1,4,4] -> 3\n",
    "\n",
    "def secondHighestFreq(li):\n",
    "    unique={}\n",
    "    for n in li:\n",
    "        if n in unique:\n",
    "            unique[n] +=1\n",
    "        else:\n",
    "            unique[n] =1\n",
    "    freq=unique.values()\n",
    "    maxfreq=max(freq)\n",
    "    print(maxfreq)\n",
    "    max2=0\n",
    "    for i in unique.values():\n",
    "        if(i>max2 and i<maxfreq):\n",
    "            max2=i\n",
    "    print(max2)\n",
    "       \n",
    "    maxfreqkeys = []\n",
    "    for item in unique.items():\n",
    "        if item[1]==max2:\n",
    "            maxfreqkeys.append(item[0])\n",
    "    return min(maxfreqkeys)\n",
    "\n",
    "      #Select the minimum from the keys with maximum frequancy\n",
    "       #maxfreq=sorted(maxfreq,reverse=True)\n",
    "      # return maxfreq[k-1]\n",
    "secondHighestFreq([1,2,3,2,1,4,4])"
   ]
  },
  {
   "cell_type": "code",
   "execution_count": 18,
   "metadata": {},
   "outputs": [
    {
     "data": {
      "text/plain": [
       "2"
      ]
     },
     "execution_count": 18,
     "metadata": {},
     "output_type": "execute_result"
    }
   ],
   "source": [
    "    # Function to identify Kth highest frequency element in a list\n",
    "# if there are many such elements, return the Kth highest frequency element\n",
    "# [9,8,7,6,5,2,3,4,9,6,7,7,7,6,7,6], k=4 -> 2\n",
    "\n",
    "def kthighesttFrequency(li,k):\n",
    "    unique = {}\n",
    "    for n in li:\n",
    "        if n in unique:\n",
    "            unique[n]+=1\n",
    "        else:\n",
    "            unique[n]=1\n",
    "    x=[]\n",
    "    vq=[]\n",
    "    for item in unique.items():\n",
    "        x.append(item[1]) \n",
    "    for n in x:\n",
    "        if n not in vq:\n",
    "            vq.append(n)\n",
    "    vq=sorted(vq,reverse=True)\n",
    "    kl=[]\n",
    "    for item in unique.items():\n",
    "        if item[1]==vq[k-1]:\n",
    "            kl.append(item[0])\n",
    "    return min(kl)\n",
    "           \n",
    "       \n",
    "kthighesttFrequency([9,8,7,6,5,2,3,4,9,6,7,7,7,6,7,6],4)"
   ]
  },
  {
   "cell_type": "code",
   "execution_count": 17,
   "metadata": {},
   "outputs": [
    {
     "name": "stdout",
     "output_type": "stream",
     "text": [
      "{9: 2, 8: 1, 7: 5, 6: 4, 5: 1, 2: 1, 3: 1, 4: 1}\n",
      "[8, 5, 2, 3, 4]\n"
     ]
    },
    {
     "data": {
      "text/plain": [
       "8"
      ]
     },
     "execution_count": 17,
     "metadata": {},
     "output_type": "execute_result"
    }
   ],
   "source": [
    "def khighestfrequency(s,k):\n",
    "    unique = {}\n",
    "    for c in s:\n",
    "        if c not in unique:\n",
    "            unique[c] = 1\n",
    "        else:\n",
    "            unique[c] += 1\n",
    "    print(unique)\n",
    "    # unique = {9: 2, 8: 1, 7: 5, 6: 4, 5: 1, 2: 1, 3: 1, 4: 1}\n",
    "    # Extract all unique frequencies in a list\n",
    "    # uniqfreq = [2,1,5,4]\n",
    "    uniquefreq = []\n",
    "    for i in unique.values():\n",
    "        if i not in uniquefreq:\n",
    "            uniquefreq.append(i)\n",
    "    \n",
    "    uniquefreq = sorted(uniquefreq, reverse = True)\n",
    "    kfreq = uniquefreq[k-1]\n",
    "    kfreqchar = []\n",
    "    for item in unique.items():\n",
    "        if item[1] == kfreq:\n",
    "            kfreqchar.append(item[0])\n",
    "    print(kfreqchar)\n",
    "    return max(kfreqchar)\n",
    "    \n",
    "    #return uniquefreq\n",
    "\n",
    "khighestfrequency([9,8,7,6,5,2,3,4,9,6,7,7,7,6,7,6],4)\n",
    "    "
   ]
  },
  {
   "cell_type": "code",
   "execution_count": null,
   "metadata": {},
   "outputs": [],
   "source": []
  }
 ],
 "metadata": {
  "kernelspec": {
   "display_name": "Python 3",
   "language": "python",
   "name": "python3"
  },
  "language_info": {
   "codemirror_mode": {
    "name": "ipython",
    "version": 3
   },
   "file_extension": ".py",
   "mimetype": "text/x-python",
   "name": "python",
   "nbconvert_exporter": "python",
   "pygments_lexer": "ipython3",
   "version": "3.7.3"
  }
 },
 "nbformat": 4,
 "nbformat_minor": 2
}
