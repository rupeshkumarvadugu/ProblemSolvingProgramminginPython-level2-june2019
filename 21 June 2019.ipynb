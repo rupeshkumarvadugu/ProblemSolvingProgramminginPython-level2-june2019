{
 "cells": [
  {
   "cell_type": "code",
   "execution_count": null,
   "metadata": {},
   "outputs": [],
   "source": [
    "import re\n",
    "\n",
    "dir(re)"
   ]
  },
  {
   "cell_type": "code",
   "execution_count": 9,
   "metadata": {},
   "outputs": [
    {
     "name": "stdout",
     "output_type": "stream",
     "text": [
      "180\n",
      "3\n",
      "640 480\n",
      "CROP IT\n",
      "120 300\n",
      "UPLOAD ANOTHER\n",
      "180 180\n",
      "ACCEPTED\n"
     ]
    }
   ],
   "source": [
    "l = int(input())\n",
    "n = int(input())\n",
    "\n",
    "for i in range(n) :\n",
    "    a = input().split()\n",
    "    w = int(a[0])\n",
    "    h = int(a[1])\n",
    "    if w < l or h < l:\n",
    "        print(\"UPLOAD ANOTHER\")\n",
    "    elif w == h:\n",
    "            print(\"ACCEPTED\")\n",
    "    else:\n",
    "        print(\"CROP IT\")\n",
    "        \n",
    "        "
   ]
  },
  {
   "cell_type": "code",
   "execution_count": 8,
   "metadata": {},
   "outputs": [
    {
     "name": "stdout",
     "output_type": "stream",
     "text": [
      "krishna added to contacts\n"
     ]
    }
   ],
   "source": [
    " # Function to add contact to contacts text file\n",
    "from Packages.validators import phonenumber, verifiedmail\n",
    "\n",
    "def addContact(name, number, email):\n",
    "    # store data as name, phone, email in the contact\n",
    "    filename = 'DataFiles/contacts.txt'\n",
    "    if not contactExists(name): # contact exists or not\n",
    "        if phonenumber(number) and verifiedmail(email):\n",
    "            with open(filename, 'a') as f:\n",
    "                line = name+',' +str(number)+ ',' +email+ '\\n'\n",
    "                f.write(line)\n",
    "            print(name, 'added to contacts')\n",
    "        else:\n",
    "            print(name, 'Invalid Phone Number or Invalid Email id')\n",
    "            return\n",
    "    else:\n",
    "        print(name, 'already exists')\n",
    "    return\n",
    "\n",
    "import re\n",
    "\n",
    "#Function to check if contact already exists\n",
    "\n",
    "def contactExists(name):\n",
    "    filename = 'DataFiles/contacts.txt'\n",
    "    with open(filename, 'r') as f:\n",
    "            filedata = f.read()\n",
    "            pattern = name+','   \n",
    "    return re.search(name,filedata)\n",
    "    \n",
    "addContact(\"krishna\", 7989963592, \"sai123@gmail.com\")"
   ]
  },
  {
   "cell_type": "code",
   "execution_count": 2,
   "metadata": {},
   "outputs": [
    {
     "data": {
      "text/plain": [
       "'name1.9876543210.abc123@gmail.com\\nrupesh.8500155570.rupeshkumar.v@apssdc.in\\nsai.7989963592.sai_123@gmail.com\\nkrishna.7989963592.sai123@gmail.com\\n'"
      ]
     },
     "execution_count": 2,
     "metadata": {},
     "output_type": "execute_result"
    }
   ],
   "source": [
    "# Function to list a file\n",
    "\n",
    "filename = 'Datafiles/contacts.txt'\n",
    "def csvToList(filename):\n",
    "    li = []\n",
    "    with open(filename, 'r') as f:\n",
    "        for line in f:\n",
    "            li.append(line.split(','))\n",
    "            \n",
    "    return li\n",
    "\n",
    "#csvToList(filename)\n",
    "\n",
    "def listToFile(li):\n",
    "    s = ''\n",
    "    for i in li:\n",
    "        s += '.'.join(i)\n",
    "    return s\n",
    "\n",
    "a = csvToList(filename)\n",
    "listToFile(a)\n"
   ]
  },
  {
   "cell_type": "code",
   "execution_count": 5,
   "metadata": {},
   "outputs": [
    {
     "data": {
      "text/plain": [
       "1"
      ]
     },
     "execution_count": 5,
     "metadata": {},
     "output_type": "execute_result"
    }
   ],
   "source": [
    "# Function to search for data in a file\n",
    "def search(filename, name):\n",
    "    f = csvToList(filename)\n",
    "    flag = 0\n",
    "    for i in range(len(f)):\n",
    "        if name == f[i][0]:\n",
    "            flag = 1\n",
    "            return 1\n",
    "    if flag == False:\n",
    "        return -1\n",
    "    \n",
    "search('DataFiles/contacts.txt', \"rupesh\")"
   ]
  },
  {
   "cell_type": "code",
   "execution_count": null,
   "metadata": {},
   "outputs": [],
   "source": []
  },
  {
   "cell_type": "code",
   "execution_count": null,
   "metadata": {},
   "outputs": [],
   "source": []
  },
  {
   "cell_type": "code",
   "execution_count": null,
   "metadata": {},
   "outputs": [],
   "source": []
  },
  {
   "cell_type": "code",
   "execution_count": null,
   "metadata": {},
   "outputs": [],
   "source": []
  }
 ],
 "metadata": {
  "kernelspec": {
   "display_name": "Python 3",
   "language": "python",
   "name": "python3"
  },
  "language_info": {
   "codemirror_mode": {
    "name": "ipython",
    "version": 3
   },
   "file_extension": ".py",
   "mimetype": "text/x-python",
   "name": "python",
   "nbconvert_exporter": "python",
   "pygments_lexer": "ipython3",
   "version": "3.7.3"
  }
 },
 "nbformat": 4,
 "nbformat_minor": 2
}
