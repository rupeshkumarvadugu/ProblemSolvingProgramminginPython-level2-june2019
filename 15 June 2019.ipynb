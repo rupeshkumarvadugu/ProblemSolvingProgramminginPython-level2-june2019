{
 "cells": [
  {
   "cell_type": "code",
   "execution_count": 7,
   "metadata": {},
   "outputs": [],
   "source": [
    "l = [\"python\"]"
   ]
  },
  {
   "cell_type": "code",
   "execution_count": 3,
   "metadata": {},
   "outputs": [
    {
     "data": {
      "text/plain": [
       "[1, 2, 3, 4, 22, [1, 2, 3], 1, 2]"
      ]
     },
     "execution_count": 3,
     "metadata": {},
     "output_type": "execute_result"
    }
   ],
   "source": [
    "l = [1,2,3,4,]\n",
    "l.append(22)\n",
    "l.append([1,2,3])\n",
    "l.extend([1,2])\n",
    "l"
   ]
  },
  {
   "cell_type": "code",
   "execution_count": 8,
   "metadata": {},
   "outputs": [
    {
     "name": "stdout",
     "output_type": "stream",
     "text": [
      "-1\n"
     ]
    }
   ],
   "source": [
    "# Function to nearest zero\n",
    "\n",
    "li = [-1, -2, 2, 3,1]\n",
    "li.sort()\n",
    "\n",
    "pl = []\n",
    "for i in li:\n",
    "    pl.append(abs(i))\n",
    "\n",
    "pl.sort()\n",
    "if pl[0] in li:\n",
    "    print(-pl[0])\n",
    "else:\n",
    "    print(pl[0])"
   ]
  },
  {
   "cell_type": "code",
   "execution_count": 1,
   "metadata": {},
   "outputs": [
    {
     "name": "stdout",
     "output_type": "stream",
     "text": [
      "5\n",
      "1 2 3 4 5\n"
     ]
    },
    {
     "data": {
      "text/plain": [
       "1"
      ]
     },
     "execution_count": 1,
     "metadata": {},
     "output_type": "execute_result"
    }
   ],
   "source": [
    "# Function to closest zero\n",
    "\n",
    "n = int(input())\n",
    "s = input()\n",
    "s = s.split()\n",
    "li = []\n",
    "for i in s:\n",
    "    li.append(abs(int(i)))\n",
    "    \n",
    "min(li)"
   ]
  },
  {
   "cell_type": "code",
   "execution_count": 10,
   "metadata": {},
   "outputs": [
    {
     "data": {
      "text/plain": [
       "8"
      ]
     },
     "execution_count": 10,
     "metadata": {},
     "output_type": "execute_result"
    }
   ],
   "source": [
    "# Largest number\n",
    "# you are given three numbers a, b, c. Write a program to find the largest number which is less than or equal to c and leaves remainder b when divided by a\n",
    "\n",
    "def cal(a, b, c):\n",
    "    for i in range(c, a-1, -1):\n",
    "        if i % a ==b:\n",
    "            return i\n",
    "    return -1\n",
    "cal(3,2,9)"
   ]
  },
  {
   "cell_type": "code",
   "execution_count": 54,
   "metadata": {},
   "outputs": [
    {
     "name": "stdout",
     "output_type": "stream",
     "text": [
      "1 10 1\n",
      "10\n"
     ]
    }
   ],
   "source": [
    "# Function to print count divisors\n",
    "\n",
    "def countDivisors(i,j,k):\n",
    "    count = 0\n",
    "    for n in range(i, j+1):\n",
    "        if (n % k) == 0:\n",
    "            count += 1\n",
    "    return count\n",
    "\n",
    "s = input()\n",
    "\n",
    "s = s.split()\n",
    "i = int(s[0])\n",
    "j = int(s[1])\n",
    "k = int(s[2])\n",
    "\n",
    "countDivisors(i,j,k)\n",
    "print(countDivisors(i,j,k))\n"
   ]
  },
  {
   "cell_type": "code",
   "execution_count": 52,
   "metadata": {},
   "outputs": [
    {
     "name": "stdout",
     "output_type": "stream",
     "text": [
      "5\n",
      "120\n"
     ]
    }
   ],
   "source": [
    "# Function to calculate factorial of a given number\n",
    "\n",
    "n = int(input())\n",
    "def fact(n):\n",
    "    fact = 1\n",
    "    for i in range(1,n+1):\n",
    "        fact = fact * i\n",
    "    print (fact)\n",
    "\n",
    "fact(n)\n"
   ]
  },
  {
   "cell_type": "code",
   "execution_count": 14,
   "metadata": {},
   "outputs": [
    {
     "name": "stdout",
     "output_type": "stream",
     "text": [
      "HeLlO\n",
      "h E l L o "
     ]
    }
   ],
   "source": [
    "# Function to toggle a string\n",
    "\n",
    "def a(n):\n",
    "    for i in n:\n",
    "        if i == i.upper():\n",
    "            a = i.lower()\n",
    "        elif i == i.lower():\n",
    "            a = i.upper()\n",
    "        print(a, end =\"\")\n",
    "\n",
    "n = input()\n",
    "a(n)"
   ]
  },
  {
   "cell_type": "code",
   "execution_count": 56,
   "metadata": {},
   "outputs": [
    {
     "name": "stdout",
     "output_type": "stream",
     "text": [
      "eye\n",
      "YES\n"
     ]
    }
   ],
   "source": [
    "# Function to calculate if a given string is palindrome or not\n",
    "\n",
    "n = input()\n",
    "\n",
    "def pal(a):\n",
    "    if a == a[::-1]:\n",
    "        print(\"YES\")\n",
    "    else:\n",
    "        print(\"NO\")\n",
    "\n",
    "pal(n)"
   ]
  },
  {
   "cell_type": "code",
   "execution_count": 55,
   "metadata": {},
   "outputs": [
    {
     "name": "stdout",
     "output_type": "stream",
     "text": [
      "9\n",
      "2 3 5 7 "
     ]
    }
   ],
   "source": [
    "# Function to calculate if a given no is prime or not\n",
    "\n",
    "def prime(n):\n",
    "    for i in range(1,n+1):\n",
    "        count=0\n",
    "        for j in range(1,i+1):\n",
    "            if i%j==0:\n",
    "                count=count+1\n",
    "        if (count==2):\n",
    "            print (i,end=\" \")\n",
    "l=int(input())\n",
    "\n",
    "prime(l)"
   ]
  },
  {
   "cell_type": "code",
   "execution_count": null,
   "metadata": {},
   "outputs": [],
   "source": []
  },
  {
   "cell_type": "code",
   "execution_count": null,
   "metadata": {},
   "outputs": [],
   "source": []
  }
 ],
 "metadata": {
  "kernelspec": {
   "display_name": "Python 3",
   "language": "python",
   "name": "python3"
  },
  "language_info": {
   "codemirror_mode": {
    "name": "ipython",
    "version": 3
   },
   "file_extension": ".py",
   "mimetype": "text/x-python",
   "name": "python",
   "nbconvert_exporter": "python",
   "pygments_lexer": "ipython3",
   "version": "3.7.3"
  }
 },
 "nbformat": 4,
 "nbformat_minor": 2
}
