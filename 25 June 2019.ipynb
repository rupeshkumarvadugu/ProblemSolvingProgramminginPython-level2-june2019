{
 "cells": [
  {
   "cell_type": "markdown",
   "metadata": {},
   "source": [
    "### Find and Replace Application\n",
    "- Check if a word is existing in a file\n",
    "    - wordExists(filepath, word)\n",
    "- Count the total number of occurrences of a word in a file\n",
    "    - countWordOccurrences(filepath, word)\n",
    "- Replace all occurences of a word in a file\n",
    "    - replaceWord(filepath, word)\\n\n",
    "### Marks Analysis Report\n",
    "- Generate Marks\n",
    "    - generateMarks(n, lb, ub)\n",
    "- Generate a report of the following\n",
    "    - Class Average - classAverage(filepath)\n",
    "    - % Passed - passPercentage(filepath)\n",
    "    - % Failed - failPercentage(filepath)\n",
    "    - % Distinction - distinctionPercentage(filepath)\n",
    "    - Frequency of Highest mark - frequencyHighest(filepath)\n",
    "    - Frequency of lowest mark - frequencyLowest(filepath)\n",
    "    - GenerateReport(filepath)\n",
    "### Contacts Application\n",
    "- addContact(name, phone, email)\n",
    "- searchContact(name)\n",
    "- listContacts()\n",
    "- editContact(name, newphone, newemail)\n",
    "- deleteContact(name)\n",
    "- contactsApp()\n"
   ]
  },
  {
   "cell_type": "code",
   "execution_count": 2,
   "metadata": {},
   "outputs": [
    {
     "name": "stdout",
     "output_type": "stream",
     "text": [
      "10 marks stored successful\n"
     ]
    }
   ],
   "source": [
    "# Function to generate marks of a student\n",
    "\n",
    "from random import randint\n",
    "def generateMarks(n,lb,ub):\n",
    "    filepath = 'DataFiles/marks.txt'\n",
    "    with open(filepath, 'w') as f:\n",
    "        for i in range(0,n):\n",
    "            r = randint(lb,ub)\n",
    "            f.write(str(r) + '\\n')\n",
    "    print(n, \"marks stored successful\")\n",
    "generateMarks(10,1,100)"
   ]
  },
  {
   "cell_type": "code",
   "execution_count": 3,
   "metadata": {},
   "outputs": [
    {
     "name": "stdout",
     "output_type": "stream",
     "text": [
      "45.7\n"
     ]
    }
   ],
   "source": [
    "# Function to class average\n",
    "# sum of marks/student count\n",
    "\n",
    "def classAverage(filepath):\n",
    "    sum = 0\n",
    "    count = 0\n",
    "    with open(filepath, 'r') as f:\n",
    "        for i in f:\n",
    "            sum += int(i)\n",
    "            count += 1\n",
    "    print(sum/count)\n",
    "    \n",
    "classAverage('DataFiles/marks.txt')"
   ]
  },
  {
   "cell_type": "code",
   "execution_count": 4,
   "metadata": {},
   "outputs": [
    {
     "name": "stdout",
     "output_type": "stream",
     "text": [
      "60.0\n"
     ]
    }
   ],
   "source": [
    "# Function for % of passed candidates\n",
    "\n",
    "def passPercentage(filepath):\n",
    "    count = 0\n",
    "    mc = 0\n",
    "    with open(filepath,'r') as f:\n",
    "        for i in f:\n",
    "            mc = mc+1\n",
    "            if(int(i) >= 35):\n",
    "                 count = count + 1\n",
    "        print((count/mc)*100)\n",
    "        \n",
    "passPercentage('DataFiles/marks.txt')"
   ]
  },
  {
   "cell_type": "code",
   "execution_count": 11,
   "metadata": {},
   "outputs": [
    {
     "name": "stdout",
     "output_type": "stream",
     "text": [
      "40.0\n"
     ]
    }
   ],
   "source": [
    "# Function for % of Failed Students\n",
    "# (failedcount/totalstudentcount)*100\n",
    "def failedPercentage(filepath):\n",
    "    count = 0\n",
    "    mc = 0\n",
    "    with open(filepath,'r') as f:\n",
    "        for i in f:\n",
    "            mc = mc+1\n",
    "            if(int(i) < 35):\n",
    "                 count = count + 1\n",
    "        print((count/mc)*100)\n",
    "        \n",
    "failedPercentage('DataFiles/marks.txt')"
   ]
  },
  {
   "cell_type": "code",
   "execution_count": 6,
   "metadata": {},
   "outputs": [
    {
     "data": {
      "text/plain": [
       "30.0"
      ]
     },
     "execution_count": 6,
     "metadata": {},
     "output_type": "execute_result"
    }
   ],
   "source": [
    "# Function for distinction percentage of students\n",
    "# totaldistinctioncount/totalstudentcount *100\n",
    "def distinction(filepath):\n",
    "    count = 0\n",
    "    mc = 0\n",
    "    with open(filepath,'r') as f:\n",
    "        for i in f:\n",
    "            mc += 1\n",
    "            if(int(i)>=75):\n",
    "                count += 1\n",
    "        return (count/mc)*100\n",
    "    \n",
    "distinction('DataFiles/marks.txt')"
   ]
  },
  {
   "cell_type": "code",
   "execution_count": 7,
   "metadata": {},
   "outputs": [
    {
     "name": "stdout",
     "output_type": "stream",
     "text": [
      "90\n",
      "1\n"
     ]
    }
   ],
   "source": [
    "# Function for Frequency of Highest Marks\n",
    "\n",
    "def frequencyHighest(filepath):\n",
    "    with open(filepath, 'r') as f:\n",
    "        sp = f.read().split()\n",
    "        sp = list(map(int,sp))\n",
    "        print(max(sp))\n",
    "        print(sp.count(max(sp)))\n",
    "        \n",
    "frequencyHighest('DataFiles/marks.txt')"
   ]
  },
  {
   "cell_type": "code",
   "execution_count": 8,
   "metadata": {},
   "outputs": [
    {
     "name": "stdout",
     "output_type": "stream",
     "text": [
      "5\n",
      "1\n"
     ]
    }
   ],
   "source": [
    "# Function for Frequency of lowest Marks\n",
    "\n",
    "def frequencyLowest(filepath):\n",
    "    with open(filepath, 'r') as f:\n",
    "        sp = f.read().split()\n",
    "        sp = list(map(int,sp))\n",
    "        print(min(sp))\n",
    "        print(sp.count(min(sp)))\n",
    "        \n",
    "frequencyLowest('DataFiles/marks.txt')"
   ]
  },
  {
   "cell_type": "code",
   "execution_count": 12,
   "metadata": {},
   "outputs": [
    {
     "name": "stdout",
     "output_type": "stream",
     "text": [
      "Choose Option :\n",
      "1) Generation of marks\n",
      " 2) classAverage 3) Failed Percentage\n",
      " 4) Passed Percentage\n",
      " 5) Distinction Percentage\n",
      " 6) Frequency Highest\n",
      " 7) Frequency Lowest\n",
      "1\n",
      "15 marks stored successful\n",
      "None\n",
      "Choose Option :\n",
      "1) Generation of marks\n",
      " 2) classAverage 3) Failed Percentage\n",
      " 4) Passed Percentage\n",
      " 5) Distinction Percentage\n",
      " 6) Frequency Highest\n",
      " 7) Frequency Lowest\n",
      "2\n",
      "43.8\n",
      "None\n",
      "Choose Option :\n",
      "1) Generation of marks\n",
      " 2) classAverage 3) Failed Percentage\n",
      " 4) Passed Percentage\n",
      " 5) Distinction Percentage\n",
      " 6) Frequency Highest\n",
      " 7) Frequency Lowest\n",
      "3\n",
      "40.0\n",
      "None\n",
      "Choose Option :\n",
      "1) Generation of marks\n",
      " 2) classAverage 3) Failed Percentage\n",
      " 4) Passed Percentage\n",
      " 5) Distinction Percentage\n",
      " 6) Frequency Highest\n",
      " 7) Frequency Lowest\n",
      "4\n",
      "40.0\n",
      "None\n",
      "Choose Option :\n",
      "1) Generation of marks\n",
      " 2) classAverage 3) Failed Percentage\n",
      " 4) Passed Percentage\n",
      " 5) Distinction Percentage\n",
      " 6) Frequency Highest\n",
      " 7) Frequency Lowest\n",
      "5\n",
      "0.0\n",
      "Choose Option :\n",
      "1) Generation of marks\n",
      " 2) classAverage 3) Failed Percentage\n",
      " 4) Passed Percentage\n",
      " 5) Distinction Percentage\n",
      " 6) Frequency Highest\n",
      " 7) Frequency Lowest\n",
      "6\n",
      "74\n",
      "1\n",
      "None\n",
      "Choose Option :\n",
      "1) Generation of marks\n",
      " 2) classAverage 3) Failed Percentage\n",
      " 4) Passed Percentage\n",
      " 5) Distinction Percentage\n",
      " 6) Frequency Highest\n",
      " 7) Frequency Lowest\n",
      "7\n",
      "10\n",
      "1\n",
      "None\n",
      "Choose Option :\n",
      "1) Generation of marks\n",
      " 2) classAverage 3) Failed Percentage\n",
      " 4) Passed Percentage\n",
      " 5) Distinction Percentage\n",
      " 6) Frequency Highest\n",
      " 7) Frequency Lowest\n",
      "8\n"
     ]
    }
   ],
   "source": [
    "# Function for marks analysis of a student\n",
    "def marksAnalysis(filepath):\n",
    "    while True:\n",
    "        n = int(input(\"Choose Option :\\n1) Generation of marks\\n 2) classAverage 3) Failed Percentage\\n 4) Passed Percentage\\n 5) Distinction Percentage\\n 6) Frequency Highest\\n 7) Frequency Lowest\\n\"))\n",
    "        if (n == 1):\n",
    "            print(generateMarks(15,1,75))\n",
    "        elif (n ==2):\n",
    "            print(classAverage(filepath))\n",
    "        elif(n == 3):\n",
    "            print(passPercentage(filepath))\n",
    "        elif (n == 4):\n",
    "            print(failedPercentage(filepath))\n",
    "        elif (n ==5):\n",
    "            print(distinction(filepath))\n",
    "        elif(n == 6):\n",
    "            print(frequencyHighest(filepath))\n",
    "        elif (n ==7):\n",
    "             print(frequencyLowest(filepath))\n",
    "        else:\n",
    "            break\n",
    "         \n",
    "marksAnalysis('DataFiles/marks.txt')"
   ]
  },
  {
   "cell_type": "code",
   "execution_count": null,
   "metadata": {},
   "outputs": [],
   "source": []
  },
  {
   "cell_type": "code",
   "execution_count": null,
   "metadata": {},
   "outputs": [],
   "source": []
  },
  {
   "cell_type": "code",
   "execution_count": null,
   "metadata": {},
   "outputs": [],
   "source": []
  },
  {
   "cell_type": "code",
   "execution_count": null,
   "metadata": {},
   "outputs": [],
   "source": []
  },
  {
   "cell_type": "code",
   "execution_count": null,
   "metadata": {},
   "outputs": [],
   "source": []
  },
  {
   "cell_type": "code",
   "execution_count": null,
   "metadata": {},
   "outputs": [],
   "source": []
  }
 ],
 "metadata": {
  "kernelspec": {
   "display_name": "Python 3",
   "language": "python",
   "name": "python3"
  },
  "language_info": {
   "codemirror_mode": {
    "name": "ipython",
    "version": 3
   },
   "file_extension": ".py",
   "mimetype": "text/x-python",
   "name": "python",
   "nbconvert_exporter": "python",
   "pygments_lexer": "ipython3",
   "version": "3.7.3"
  }
 },
 "nbformat": 4,
 "nbformat_minor": 2
}
