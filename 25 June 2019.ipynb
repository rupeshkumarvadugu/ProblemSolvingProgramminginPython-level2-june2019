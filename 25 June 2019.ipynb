{
 "cells": [
  {
   "cell_type": "markdown",
   "metadata": {},
   "source": [
    "### Find and Replace Application\n",
    "- Check if a word is existing in a file\n",
    "    - wordExists(filepath, word)\n",
    "- Count the total number of occurrences of a word in a file\n",
    "    - countWordOccurrences(filepath, word)\n",
    "- Replace all occurences of a word in a file\n",
    "    - replaceWord(filepath, word)\\n\n",
    "### Marks Analysis Report\n",
    "- Generate Marks\n",
    "    - generateMarks(n, lb, ub)\n",
    "- Generate a report of the following\n",
    "    - Class Average - classAverage(filepath)\n",
    "    - % Passed - passPercentage(filepath)\n",
    "    - % Failed - failPercentage(filepath)\n",
    "    - % Distinction - distinctionPercentage(filepath)\n",
    "    - Frequency of Highest mark - frequencyHighest(filepath)\n",
    "    - Frequency of lowest mark - frequencyLowest(filepath)\n",
    "    - GenerateReport(filepath)\n",
    "### Contacts Application\n",
    "- addContact(name, phone, email)\n",
    "- searchContact(name)\n",
    "- listContacts()\n",
    "- editContact(name, newphone, newemail)\n",
    "- deleteContact(name)\n",
    "- contactsApp()\n"
   ]
  },
  {
   "cell_type": "code",
   "execution_count": 2,
   "metadata": {},
   "outputs": [
    {
     "name": "stdout",
     "output_type": "stream",
     "text": [
      "10 marks stored successful\n"
     ]
    }
   ],
   "source": [
    "# Function to generate marks of a student\n",
    "\n",
    "from random import randint\n",
    "def generateMarks(n,lb,ub):\n",
    "    filepath = 'DataFiles/marks.txt'\n",
    "    with open(filepath, 'w') as f:\n",
    "        for i in range(0,n):\n",
    "            r = randint(lb,ub)\n",
    "            f.write(str(r) + '\\n')\n",
    "    print(n, \"marks stored successful\")\n",
    "generateMarks(10,1,100)"
   ]
  },
  {
   "cell_type": "code",
   "execution_count": 3,
   "metadata": {},
   "outputs": [
    {
     "name": "stdout",
     "output_type": "stream",
     "text": [
      "45.7\n"
     ]
    }
   ],
   "source": [
    "# Function to class average\n",
    "# sum of marks/student count\n",
    "\n",
    "def classAverage(filepath):\n",
    "    sum = 0\n",
    "    count = 0\n",
    "    with open(filepath, 'r') as f:\n",
    "        for i in f:\n",
    "            sum += int(i)\n",
    "            count += 1\n",
    "    print(sum/count)\n",
    "    \n",
    "classAverage('DataFiles/marks.txt')"
   ]
  },
  {
   "cell_type": "code",
   "execution_count": 4,
   "metadata": {},
   "outputs": [
    {
     "name": "stdout",
     "output_type": "stream",
     "text": [
      "60.0\n"
     ]
    }
   ],
   "source": [
    "# Function for % of passed candidates\n",
    "\n",
    "def passPercentage(filepath):\n",
    "    count = 0\n",
    "    mc = 0\n",
    "    with open(filepath,'r') as f:\n",
    "        for i in f:\n",
    "            mc = mc+1\n",
    "            if(int(i) >= 35):\n",
    "                 count = count + 1\n",
    "        print((count/mc)*100)\n",
    "        \n",
    "passPercentage('DataFiles/marks.txt')"
   ]
  },
  {
   "cell_type": "code",
   "execution_count": 11,
   "metadata": {},
   "outputs": [
    {
     "name": "stdout",
     "output_type": "stream",
     "text": [
      "40.0\n"
     ]
    }
   ],
   "source": [
    "# Function for % of Failed Students\n",
    "# (failedcount/totalstudentcount)*100\n",
    "def failedPercentage(filepath):\n",
    "    count = 0\n",
    "    mc = 0\n",
    "    with open(filepath,'r') as f:\n",
    "        for i in f:\n",
    "            mc = mc+1\n",
    "            if(int(i) < 35):\n",
    "                 count = count + 1\n",
    "        print((count/mc)*100)\n",
    "        \n",
    "failedPercentage('DataFiles/marks.txt')"
   ]
  },
  {
   "cell_type": "code",
   "execution_count": 6,
   "metadata": {},
   "outputs": [
    {
     "data": {
      "text/plain": [
       "30.0"
      ]
     },
     "execution_count": 6,
     "metadata": {},
     "output_type": "execute_result"
    }
   ],
   "source": [
    "# Function for distinction percentage of students\n",
    "# totaldistinctioncount/totalstudentcount *100\n",
    "def distinction(filepath):\n",
    "    count = 0\n",
    "    mc = 0\n",
    "    with open(filepath,'r') as f:\n",
    "        for i in f:\n",
    "            mc += 1\n",
    "            if(int(i)>=75):\n",
    "                count += 1\n",
    "        return (count/mc)*100\n",
    "    \n",
    "distinction('DataFiles/marks.txt')"
   ]
  },
  {
   "cell_type": "code",
   "execution_count": 7,
   "metadata": {},
   "outputs": [
    {
     "name": "stdout",
     "output_type": "stream",
     "text": [
      "90\n",
      "1\n"
     ]
    }
   ],
   "source": [
    "# Function for Frequency of Highest Marks\n",
    "\n",
    "def frequencyHighest(filepath):\n",
    "    with open(filepath, 'r') as f:\n",
    "        sp = f.read().split()\n",
    "        sp = list(map(int,sp))\n",
    "        print(max(sp))\n",
    "        print(sp.count(max(sp)))\n",
    "        \n",
    "frequencyHighest('DataFiles/marks.txt')"
   ]
  },
  {
   "cell_type": "code",
   "execution_count": 8,
   "metadata": {},
   "outputs": [
    {
     "name": "stdout",
     "output_type": "stream",
     "text": [
      "5\n",
      "1\n"
     ]
    }
   ],
   "source": [
    "# Function for Frequency of lowest Marks\n",
    "\n",
    "def frequencyLowest(filepath):\n",
    "    with open(filepath, 'r') as f:\n",
    "        sp = f.read().split()\n",
    "        sp = list(map(int,sp))\n",
    "        print(min(sp))\n",
    "        print(sp.count(min(sp)))\n",
    "        \n",
    "frequencyLowest('DataFiles/marks.txt')"
   ]
  },
  {
   "cell_type": "code",
   "execution_count": 12,
   "metadata": {},
   "outputs": [
    {
     "name": "stdout",
     "output_type": "stream",
     "text": [
      "Choose Option :\n",
      "1) Generation of marks\n",
      " 2) classAverage 3) Failed Percentage\n",
      " 4) Passed Percentage\n",
      " 5) Distinction Percentage\n",
      " 6) Frequency Highest\n",
      " 7) Frequency Lowest\n",
      "1\n",
      "15 marks stored successful\n",
      "None\n",
      "Choose Option :\n",
      "1) Generation of marks\n",
      " 2) classAverage 3) Failed Percentage\n",
      " 4) Passed Percentage\n",
      " 5) Distinction Percentage\n",
      " 6) Frequency Highest\n",
      " 7) Frequency Lowest\n",
      "2\n",
      "43.8\n",
      "None\n",
      "Choose Option :\n",
      "1) Generation of marks\n",
      " 2) classAverage 3) Failed Percentage\n",
      " 4) Passed Percentage\n",
      " 5) Distinction Percentage\n",
      " 6) Frequency Highest\n",
      " 7) Frequency Lowest\n",
      "3\n",
      "40.0\n",
      "None\n",
      "Choose Option :\n",
      "1) Generation of marks\n",
      " 2) classAverage 3) Failed Percentage\n",
      " 4) Passed Percentage\n",
      " 5) Distinction Percentage\n",
      " 6) Frequency Highest\n",
      " 7) Frequency Lowest\n",
      "4\n",
      "40.0\n",
      "None\n",
      "Choose Option :\n",
      "1) Generation of marks\n",
      " 2) classAverage 3) Failed Percentage\n",
      " 4) Passed Percentage\n",
      " 5) Distinction Percentage\n",
      " 6) Frequency Highest\n",
      " 7) Frequency Lowest\n",
      "5\n",
      "0.0\n",
      "Choose Option :\n",
      "1) Generation of marks\n",
      " 2) classAverage 3) Failed Percentage\n",
      " 4) Passed Percentage\n",
      " 5) Distinction Percentage\n",
      " 6) Frequency Highest\n",
      " 7) Frequency Lowest\n",
      "6\n",
      "74\n",
      "1\n",
      "None\n",
      "Choose Option :\n",
      "1) Generation of marks\n",
      " 2) classAverage 3) Failed Percentage\n",
      " 4) Passed Percentage\n",
      " 5) Distinction Percentage\n",
      " 6) Frequency Highest\n",
      " 7) Frequency Lowest\n",
      "7\n",
      "10\n",
      "1\n",
      "None\n",
      "Choose Option :\n",
      "1) Generation of marks\n",
      " 2) classAverage 3) Failed Percentage\n",
      " 4) Passed Percentage\n",
      " 5) Distinction Percentage\n",
      " 6) Frequency Highest\n",
      " 7) Frequency Lowest\n",
      "8\n"
     ]
    }
   ],
   "source": [
    "# Function for marks analysis of a student\n",
    "def marksAnalysis(filepath):\n",
    "    while True:\n",
    "        n = int(input(\"Choose Option :\\n1) Generation of marks\\n 2) classAverage 3) Failed Percentage\\n 4) Passed Percentage\\n 5) Distinction Percentage\\n 6) Frequency Highest\\n 7) Frequency Lowest\\n\"))\n",
    "        if (n == 1):\n",
    "            print(generateMarks(15,1,75))\n",
    "        elif (n ==2):\n",
    "            print(classAverage(filepath))\n",
    "        elif(n == 3):\n",
    "            print(passPercentage(filepath))\n",
    "        elif (n == 4):\n",
    "            print(failedPercentage(filepath))\n",
    "        elif (n ==5):\n",
    "            print(distinction(filepath))\n",
    "        elif(n == 6):\n",
    "            print(frequencyHighest(filepath))\n",
    "        elif (n ==7):\n",
    "             print(frequencyLowest(filepath))\n",
    "        else:\n",
    "            break\n",
    "         \n",
    "marksAnalysis('DataFiles/marks.txt')"
   ]
  },
  {
   "cell_type": "code",
   "execution_count": 13,
   "metadata": {},
   "outputs": [
    {
     "data": {
      "text/plain": [
       "False"
      ]
     },
     "execution_count": 13,
     "metadata": {},
     "output_type": "execute_result"
    }
   ],
   "source": [
    "# Function to check if two strings are anagrams\n",
    "# abc cba -> True\n",
    "# abc abc (sort)\n",
    "# aabbcc ccbbaaa -> False\n",
    "\n",
    "def checkAnagrams(s1, s2):\n",
    "    if len(s1) != len(s2):\n",
    "        return False\n",
    "    if sorted(s1) == sorted(s2):\n",
    "        return True\n",
    "    return False\n",
    "\n",
    "checkAnagrams('abc', 'bcc')\n"
   ]
  },
  {
   "cell_type": "code",
   "execution_count": 14,
   "metadata": {},
   "outputs": [
    {
     "data": {
      "text/plain": [
       "4"
      ]
     },
     "execution_count": 14,
     "metadata": {},
     "output_type": "execute_result"
    }
   ],
   "source": [
    "def deleteAnagrams(s1,s2):\n",
    "    # To Collect all uncommon  charecters - charecters occuring in only one string\n",
    "    uncommon = []\n",
    "    for i in s1:\n",
    "        if i not in s2:\n",
    "            uncommon.append(i)\n",
    "    for i in s2:\n",
    "        if i not in s1:\n",
    "            uncommon.append(i)\n",
    "    count = len(uncommon)\n",
    "    \n",
    "    # Freqs1 & 2 -> frequency of common charecters in s1 & s2\n",
    "    freqs1 = {}\n",
    "    freqs2 = {}\n",
    "    \n",
    "    # Uniqs 1 & 2 -> Unique Charecters in s1 & s2\n",
    "    uniqs1 = []\n",
    "    uniqs2 = []\n",
    "    \n",
    "    # Frequency of unique charecters s1\n",
    "    for i in s1:\n",
    "        if i not in uncommon and i not in uniqs1:\n",
    "            freqs1[i] = s1.count(i)\n",
    "            uniqs1.append(i)\n",
    "            \n",
    "    # Frequency of Unique Charecters in s2\n",
    "    for i in s2:\n",
    "        if i not in uncommon and i not in uniqs2:\n",
    "            freqs2[i] = s2.count(i)\n",
    "            uniqs2.append(i)\n",
    "    \n",
    "    # Differance in Frequencies for Common Charecters\n",
    "    for key in freqs1.keys():\n",
    "        count += abs(freqs1[key] - freqs2[key])\n",
    "    return count\n",
    "\n",
    "deleteAnagrams('cde','abc')\n",
    "            "
   ]
  },
  {
   "cell_type": "code",
   "execution_count": 27,
   "metadata": {},
   "outputs": [
    {
     "data": {
      "text/plain": [
       "'c'"
      ]
     },
     "execution_count": 27,
     "metadata": {},
     "output_type": "execute_result"
    }
   ],
   "source": [
    "\n",
    "def kLargestFrequency(s, k):\n",
    "    unique = []\n",
    "    freq = {}\n",
    "    for i in s:\n",
    "        if i not in unique:\n",
    "            freq[i] = s.count(i)\n",
    "    # Extract uniqueFrequencies in descending order\n",
    "    values = sorted(freq.values(), reverse = True)\n",
    "    uniqueValues = list(set(values))\n",
    "    uniqueValues = sorted(uniqueValues, reverse = False)\n",
    "    \n",
    "    # Identify Kth Largest Frequency\n",
    "    if k <= len(uniqueValues):\n",
    "        kvalue = uniqueValues[k-1]\n",
    "    else:\n",
    "        return -1\n",
    "    \n",
    "    # Get all elements with kth largest element\n",
    "    li = []\n",
    "    for item in freq.items():\n",
    "        if item[1] == kvalue:\n",
    "            li.append(item[0])\n",
    "    return min(li)\n",
    "\n",
    "kLargestFrequency('aabcdcc', 3)\n",
    "    \n",
    "    "
   ]
  },
  {
   "cell_type": "code",
   "execution_count": null,
   "metadata": {},
   "outputs": [],
   "source": []
  },
  {
   "cell_type": "code",
   "execution_count": null,
   "metadata": {},
   "outputs": [],
   "source": []
  },
  {
   "cell_type": "code",
   "execution_count": null,
   "metadata": {},
   "outputs": [],
   "source": []
  }
 ],
 "metadata": {
  "kernelspec": {
   "display_name": "Python 3",
   "language": "python",
   "name": "python3"
  },
  "language_info": {
   "codemirror_mode": {
    "name": "ipython",
    "version": 3
   },
   "file_extension": ".py",
   "mimetype": "text/x-python",
   "name": "python",
   "nbconvert_exporter": "python",
   "pygments_lexer": "ipython3",
   "version": "3.7.3"
  }
 },
 "nbformat": 4,
 "nbformat_minor": 2
}
