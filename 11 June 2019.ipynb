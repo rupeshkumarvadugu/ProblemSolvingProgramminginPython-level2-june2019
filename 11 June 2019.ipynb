{
 "cells": [
  {
   "cell_type": "markdown",
   "metadata": {},
   "source": [
    "### Markdown Basics\n",
    "**Bold** <br>\n",
    "*Italic* <br>\n",
    "***IB*** <br>\n",
    "normal Text\n",
    "* Sublist 1\n",
    "* Sublist 2\n",
    "    * sublist1\n",
    "    * Sublist2\n",
    "    \n",
    "    \n",
    "> 1. Ordered List Element 1\n",
    "> 2. Ordered List Element 2\n",
    "\n",
    "\n",
    "- [.] Option 1\n",
    "- [.] Option 2\n",
    "- [.] Option 3\n",
    "- [.] Option 4\n",
    "\n",
    "I get 10 times more traffic from [Google][] than from\n",
    "[Yahoo][] or [MSN][].\n",
    "\n",
    "  [google]: http://google.com/        \"Google\"\n",
    "  [yahoo]:  http://search.yahoo.com/  \"Yahoo Search\"\n",
    "  [msn]:    http://search.msn.com/    \"MSN Search\"\n",
    "  \n",
    "`printf(\"Hello Markdown\")` <br>\n",
    "<https://google.com>\n",
    "\n",
    "\n",
    "[Jupyter Logo](jupyterlogo.png)\n",
    "![Jupyter Logo](jupyterlogo.png)\n",
    "\n",
    "<img src=\"jupyterlogo.png\" style=\"float:left\">"
   ]
  },
  {
   "cell_type": "code",
   "execution_count": null,
   "metadata": {},
   "outputs": [],
   "source": []
  },
  {
   "cell_type": "code",
   "execution_count": null,
   "metadata": {},
   "outputs": [],
   "source": []
  },
  {
   "cell_type": "markdown",
   "metadata": {},
   "source": [
    "### Python Basics\n",
    "Python Version 3.7\n",
    "\n",
    "- Scripting\n",
    "- Object Oriented\n",
    "- functional"
   ]
  },
  {
   "cell_type": "code",
   "execution_count": 15,
   "metadata": {},
   "outputs": [
    {
     "name": "stdout",
     "output_type": "stream",
     "text": [
      "Good Afternoon rupesh !Welcome to Python Training\n"
     ]
    }
   ],
   "source": [
    "# Python Comments\n",
    "\n",
    "print(\"Good Afternoon\",\"rupesh !\", end=\"\") # Basic Output\n",
    "print(\"Welcome to Python Training\")"
   ]
  },
  {
   "cell_type": "markdown",
   "metadata": {},
   "source": [
    "### Assignment"
   ]
  },
  {
   "cell_type": "code",
   "execution_count": null,
   "metadata": {},
   "outputs": [],
   "source": []
  },
  {
   "cell_type": "code",
   "execution_count": 23,
   "metadata": {},
   "outputs": [
    {
     "name": "stdout",
     "output_type": "stream",
     "text": [
      "123 234 345\n"
     ]
    }
   ],
   "source": [
    "n1 = 123456 # Sinlge Variable Assignment\n",
    "\n",
    "n2 = n3 = n1 # Multi Variable Assignment\n",
    "\n",
    "a, b, c = 123, 234, 345 # Multi Variable Assignment with Differant Values\n",
    "\n",
    "print (a, b, c)"
   ]
  },
  {
   "cell_type": "code",
   "execution_count": null,
   "metadata": {},
   "outputs": [],
   "source": []
  },
  {
   "cell_type": "markdown",
   "metadata": {},
   "source": [
    "### Data Types & Type Conversions\n",
    "int <br>\n",
    "float <br>\n",
    "string <br>\n",
    "double <br>"
   ]
  },
  {
   "cell_type": "code",
   "execution_count": 43,
   "metadata": {},
   "outputs": [
    {
     "data": {
      "text/plain": [
       "12.0"
      ]
     },
     "execution_count": 43,
     "metadata": {},
     "output_type": "execute_result"
    }
   ],
   "source": [
    "type(a)\n",
    "s1 = \"python\"\n",
    "type(s1)\n",
    "\n",
    "f1 = 12.345\n",
    "type(f1)\n",
    "\n",
    "float(str(int(f1)))"
   ]
  },
  {
   "cell_type": "code",
   "execution_count": null,
   "metadata": {},
   "outputs": [],
   "source": []
  },
  {
   "cell_type": "markdown",
   "metadata": {},
   "source": [
    "### Arithmatic Operations\n",
    "-\n",
    "+\n",
    "*\n",
    "/\n",
    "%\n",
    "**"
   ]
  },
  {
   "cell_type": "code",
   "execution_count": 36,
   "metadata": {},
   "outputs": [
    {
     "data": {
      "text/plain": [
       "int"
      ]
     },
     "execution_count": 36,
     "metadata": {},
     "output_type": "execute_result"
    }
   ],
   "source": [
    "n1 % 11\n",
    "\n",
    "n3 = n2 ** 2\n",
    "\n",
    "type(n3)\n",
    "#len(str(n3))\n",
    "\n",
    "atoms = 10 ** 82\n",
    "len(str(atoms))\n",
    "type(atoms)"
   ]
  },
  {
   "cell_type": "code",
   "execution_count": null,
   "metadata": {},
   "outputs": [],
   "source": []
  },
  {
   "cell_type": "markdown",
   "metadata": {},
   "source": [
    "### Conditionals\n"
   ]
  },
  {
   "cell_type": "code",
   "execution_count": 62,
   "metadata": {},
   "outputs": [
    {
     "name": "stdout",
     "output_type": "stream",
     "text": [
      "True\n"
     ]
    }
   ],
   "source": [
    "if atoms < 10 ** 9:\n",
    "    print(\"True\")\n",
    "else:\n",
    "    print(\"FALSE\")"
   ]
  },
  {
   "cell_type": "code",
   "execution_count": 64,
   "metadata": {},
   "outputs": [
    {
     "name": "stdout",
     "output_type": "stream",
     "text": [
      "Even\n"
     ]
    }
   ],
   "source": [
    "# Check if a number is even or odd\n",
    "\n",
    "n = 122\n",
    "if n % 2 == 0:\n",
    "    print(\"Even\")\n",
    "else:\n",
    "    print(\"Odd\")"
   ]
  },
  {
   "cell_type": "code",
   "execution_count": 1,
   "metadata": {},
   "outputs": [
    {
     "name": "stdout",
     "output_type": "stream",
     "text": [
      "enter the 1st number23445\n",
      "enter the 2nd number7654\n",
      "enter the 3rd number987654\n",
      "987654 is the greatest\n"
     ]
    }
   ],
   "source": [
    "#find the greatest of 3 numbers\n",
    "\n",
    "n1 = int(input(\"enter the 1st number\"))\n",
    "n2 = int(input(\"enter the 2nd number\"))\n",
    "n3 = int(input(\"enter the 3rd number\"))\n",
    "\n",
    "if n1>n2 and n1>n3:\n",
    "    print(n1, \"is the greatest\")\n",
    "elif n2 > n3:\n",
    "    print(n2, \"is the greatest\")\n",
    "else:\n",
    "    print(n3, \"is the greatest\")"
   ]
  },
  {
   "cell_type": "code",
   "execution_count": 2,
   "metadata": {},
   "outputs": [
    {
     "name": "stdout",
     "output_type": "stream",
     "text": [
      "-1 is greatest\n"
     ]
    }
   ],
   "source": [
    "n1, n2, n3 = -1, -2, -3\n",
    "if n1>n2 and n1>n3:\n",
    "    print(n1, \"is greatest\")\n",
    "elif n2>n3:\n",
    "    print(n2, \"is the greatest\")\n",
    "else:\n",
    "    print(n3, \"is the greatest\")"
   ]
  },
  {
   "cell_type": "code",
   "execution_count": 13,
   "metadata": {},
   "outputs": [
    {
     "name": "stdout",
     "output_type": "stream",
     "text": [
      "enter the year1989\n",
      "1989 is not a leap year\n"
     ]
    }
   ],
   "source": [
    "# Check if a year is a Leap year\n",
    "\n",
    "n = eval(input(\"enter the year\"))\n",
    "if n%400==0 or (n%100!=0 and n%4==0):\n",
    "    print(n, \"is a leap year\")\n",
    "else:\n",
    "    print(n, \"is not a leap year\")"
   ]
  },
  {
   "cell_type": "code",
   "execution_count": 9,
   "metadata": {},
   "outputs": [
    {
     "name": "stdout",
     "output_type": "stream",
     "text": [
      "101 is not in range\n"
     ]
    }
   ],
   "source": [
    "# Check if a number exists in given range\n",
    "\n",
    "n = 101\n",
    "lb = 50\n",
    "ub = 100\n",
    "\n",
    "if n >lb and n<ub:\n",
    "    print(n, \"is in range\")\n",
    "else:\n",
    "    print(n, \"is not in range\")"
   ]
  },
  {
   "cell_type": "code",
   "execution_count": 16,
   "metadata": {},
   "outputs": [
    {
     "name": "stdout",
     "output_type": "stream",
     "text": [
      "enter the number2345\n",
      "4\n"
     ]
    }
   ],
   "source": [
    "# calculate the number of digits in a number\n",
    "\n",
    "x = eval(input(\"enter the number\"))\n",
    "print(len(str(x)))\n",
    "\n"
   ]
  },
  {
   "cell_type": "code",
   "execution_count": 12,
   "metadata": {},
   "outputs": [
    {
     "name": "stdout",
     "output_type": "stream",
     "text": [
      " enter the number20\n",
      "20 is multiple of 10\n"
     ]
    }
   ],
   "source": [
    "# check if no is multiple of 10\n",
    "\n",
    "x = int(input(\" enter the number\"))\n",
    "if x %10 ==0:\n",
    "    print(x, \"is multiple of 10\")\n",
    "else:\n",
    "    print(x, \"is not multiple of 10\")"
   ]
  },
  {
   "cell_type": "code",
   "execution_count": null,
   "metadata": {},
   "outputs": [],
   "source": [
    "# check if no is a factor of 1000\n",
    "\n",
    "f = int(input(\"enter the value\"))\n",
    "if 1000 % f ==0:\n",
    "    print(f, \"is factor of 1000\")\n",
    "else:\n",
    "    print(f, \"is not a factor of 1000\""
   ]
  },
  {
   "cell_type": "code",
   "execution_count": null,
   "metadata": {},
   "outputs": [],
   "source": [
    "# check if given string is equal to a number\n",
    "\n",
    "s1 = \"2345\"\n",
    "n1 = 2345\n",
    "if str(n1) == s1:\n",
    "    print(n1, \"is equal to\", s1)\n",
    "else:\n",
    "    print(n1, \"is not equal to\", s1)"
   ]
  },
  {
   "cell_type": "code",
   "execution_count": 3,
   "metadata": {},
   "outputs": [
    {
     "data": {
      "text/plain": [
       "15.297058540778355"
      ]
     },
     "execution_count": 3,
     "metadata": {},
     "output_type": "execute_result"
    }
   ],
   "source": [
    "# check the square root of a number without functions\n",
    "n1 = 234\n",
    "n1 ** 0.5\n"
   ]
  },
  {
   "cell_type": "code",
   "execution_count": 5,
   "metadata": {},
   "outputs": [
    {
     "name": "stdout",
     "output_type": "stream",
     "text": [
      "31622400000000000\n"
     ]
    }
   ],
   "source": [
    "# calculate the no of nano seconds in a given year(considering leap year login)\n",
    "year = 2016\n",
    "if year%400==0 or (year%100!=0 and year%4==0):\n",
    "                print(366 * 24 * 60 * 60 * (10 ** 9))\n",
    "else:\n",
    "                print(365 * 24 * 60 * 60 * (10 ** 9))"
   ]
  },
  {
   "cell_type": "code",
   "execution_count": null,
   "metadata": {},
   "outputs": [],
   "source": []
  },
  {
   "cell_type": "code",
   "execution_count": null,
   "metadata": {},
   "outputs": [],
   "source": []
  },
  {
   "cell_type": "code",
   "execution_count": null,
   "metadata": {},
   "outputs": [],
   "source": []
  }
 ],
 "metadata": {
  "kernelspec": {
   "display_name": "Python 3",
   "language": "python",
   "name": "python3"
  },
  "language_info": {
   "codemirror_mode": {
    "name": "ipython",
    "version": 3
   },
   "file_extension": ".py",
   "mimetype": "text/x-python",
   "name": "python",
   "nbconvert_exporter": "python",
   "pygments_lexer": "ipython3",
   "version": "3.7.3"
  }
 },
 "nbformat": 4,
 "nbformat_minor": 2
}
