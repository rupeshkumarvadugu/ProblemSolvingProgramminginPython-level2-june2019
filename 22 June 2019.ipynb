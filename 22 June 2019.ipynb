{
 "cells": [
  {
   "cell_type": "code",
   "execution_count": null,
   "metadata": {},
   "outputs": [],
   "source": []
  },
  {
   "cell_type": "code",
   "execution_count": 20,
   "metadata": {},
   "outputs": [],
   "source": [
    "# Function to append data to file\n",
    "\n",
    "n = open(\"DataFiles/data.txt\", 'a')\n",
    "\n",
    "w = n.write(\"\\ndjhbbkjg\")\n",
    "n.close()"
   ]
  },
  {
   "cell_type": "code",
   "execution_count": 22,
   "metadata": {},
   "outputs": [
    {
     "name": "stdout",
     "output_type": "stream",
     "text": [
      "abcdbcdf \n",
      "cdfe \n",
      "dudjh \n",
      "\n",
      " dudjh\n",
      "djhbbkjg\n"
     ]
    }
   ],
   "source": [
    "# Fucntin to read data from a file\n",
    "\n",
    "n = open(\"DataFiles/data.txt\", 'r')\n",
    "\n",
    "w = n.read()\n",
    "n.close()\n",
    "print(w)"
   ]
  },
  {
   "cell_type": "markdown",
   "metadata": {},
   "source": [
    "#### Date: 22 June 2019\n",
    "\n",
    "#### Day Objectives\n",
    "- File Handling\n",
    "    - Basic File Data Processing \n",
    "        - Accessing and Modifying File Data\n",
    "    - Character Count\n",
    "    - Line Count\n",
    "    - File Size\n",
    "    - Word Count\n",
    "    - Unique Word Count"
   ]
  },
  {
   "cell_type": "code",
   "execution_count": 29,
   "metadata": {},
   "outputs": [
    {
     "name": "stdout",
     "output_type": "stream",
     "text": [
      "abcdbcdf \n",
      "cdfe \n",
      "dudjh \n",
      "\n",
      " dudjh\n",
      "djhbbkjg\n"
     ]
    }
   ],
   "source": [
    "# Read a File - File Should Exist (Read Mode)\n",
    "# Write to a File - Existing(Append Mode) or New File (Write Mode)\n",
    "\n",
    "def readFile(filepath):\n",
    "    with open(filepath, 'r') as f:\n",
    "        filedata = f.read()\n",
    "    return filedata\n",
    "\n",
    "filepath = 'DataFiles/data.txt'\n",
    "print(readFile(filepath))"
   ]
  },
  {
   "cell_type": "code",
   "execution_count": 36,
   "metadata": {},
   "outputs": [
    {
     "data": {
      "text/plain": [
       "39"
      ]
     },
     "execution_count": 36,
     "metadata": {},
     "output_type": "execute_result"
    }
   ],
   "source": [
    "# Function to print number of characters in a file\n",
    "\n",
    "def charCount(filepath):\n",
    "    with open(filepath, 'r') as f:\n",
    "        filedata = f.read()\n",
    "        count = 0\n",
    "        for i in filedata:\n",
    "            count  += 1\n",
    "        #print(count)\n",
    "    return count\n",
    "\n",
    "charCount('DataFiles/data.txt')\n",
    "        "
   ]
  },
  {
   "cell_type": "code",
   "execution_count": 39,
   "metadata": {},
   "outputs": [
    {
     "name": "stdout",
     "output_type": "stream",
     "text": [
      "5\n"
     ]
    }
   ],
   "source": [
    "# Function to print number of words in a file\n",
    "\n",
    "def wordCount(filepath):\n",
    "    with open(filepath, 'r') as f:\n",
    "        filedata = f.read()\n",
    "        a = filedata.split()\n",
    "        count = 0\n",
    "        for i in a:\n",
    "            count += 1\n",
    "        print(count)\n",
    "            \n",
    "        \n",
    "wordCount('DataFiles/data.txt')\n",
    "        "
   ]
  },
  {
   "cell_type": "code",
   "execution_count": 42,
   "metadata": {},
   "outputs": [
    {
     "name": "stdout",
     "output_type": "stream",
     "text": [
      "6\n"
     ]
    }
   ],
   "source": [
    "# Function to count number of lines in a file\n",
    "\n",
    "def lineCount(filepath):\n",
    "    count = 0\n",
    "    a = open(filepath, 'r')\n",
    "    for i in a:\n",
    "        count += 1\n",
    "    print(count)\n",
    "    \n",
    "lineCount('Datafiles/data.txt')"
   ]
  },
  {
   "cell_type": "code",
   "execution_count": 52,
   "metadata": {},
   "outputs": [
    {
     "name": "stdout",
     "output_type": "stream",
     "text": [
      "4\n",
      "*   *\n",
      "*   *\n",
      "*****\n",
      "*   *\n",
      "*   *\n",
      "*****\n",
      "*   *\n",
      "*   *\n",
      "*****\n",
      "*   *\n",
      "*   *\n",
      "*****\n",
      "*   *\n",
      "*   *\n"
     ]
    }
   ],
   "source": [
    "# Function to print ladder\n",
    "\n",
    "l = int(input())\n",
    "for i in range(0,l):\n",
    "    for j in range (0,2):\n",
    "        print(\"*   *\")\n",
    "    print(\"*****\")\n",
    "for j in range (0,2):\n",
    "        print(\"*   *\")\n",
    "    \n",
    "    "
   ]
  },
  {
   "cell_type": "code",
   "execution_count": null,
   "metadata": {},
   "outputs": [],
   "source": []
  },
  {
   "cell_type": "code",
   "execution_count": null,
   "metadata": {},
   "outputs": [],
   "source": []
  },
  {
   "cell_type": "code",
   "execution_count": null,
   "metadata": {},
   "outputs": [],
   "source": []
  }
 ],
 "metadata": {
  "kernelspec": {
   "display_name": "Python 3",
   "language": "python",
   "name": "python3"
  },
  "language_info": {
   "codemirror_mode": {
    "name": "ipython",
    "version": 3
   },
   "file_extension": ".py",
   "mimetype": "text/x-python",
   "name": "python",
   "nbconvert_exporter": "python",
   "pygments_lexer": "ipython3",
   "version": "3.7.3"
  }
 },
 "nbformat": 4,
 "nbformat_minor": 2
}
