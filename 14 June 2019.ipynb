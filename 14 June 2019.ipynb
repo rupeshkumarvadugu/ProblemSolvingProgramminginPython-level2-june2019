{
 "cells": [
  {
   "cell_type": "markdown",
   "metadata": {},
   "source": [
    "### Problem Solving and Programming in Python - day 4 \n",
    "\n",
    "#### Date - 14 June 2019\n",
    "#### Day Objectives\n",
    "\n",
    "- Python Data Structures\n",
    "    - Lists\n",
    "    - Tuples\n",
    "    - Dictionaries\n",
    "    - Basic Problem Set on Data Structures\n",
    "    - Advanced Problem Set\n",
    "    - Packages and Modules in Python"
   ]
  },
  {
   "cell_type": "code",
   "execution_count": null,
   "metadata": {},
   "outputs": [],
   "source": []
  },
  {
   "cell_type": "markdown",
   "metadata": {},
   "source": [
    "## Python Data Structures\n",
    "\n",
    "### Lists"
   ]
  },
  {
   "cell_type": "code",
   "execution_count": 30,
   "metadata": {},
   "outputs": [
    {
     "data": {
      "text/plain": [
       "[123, 234, 345, 234, 112, 456]"
      ]
     },
     "execution_count": 30,
     "metadata": {},
     "output_type": "execute_result"
    }
   ],
   "source": [
    "li = [123, 234, 345]\n",
    "\n",
    "li # Access the Entire List\n",
    "\n",
    "li[1] #Access an element with index in a list\n",
    "\n",
    "li[1:] # Access all elements from second element to last element\n",
    "\n",
    "li[::-1] # Access the list elements in reverse order\n",
    "\n",
    "li = li[::-1] \n",
    "\n",
    "li\n",
    "\n",
    "li = li[::-1]\n",
    "\n",
    "li\n",
    "\n",
    "li[::2] # Accessing even index elements\n",
    "\n",
    "li[1::2] # Accessing the elements from second position\n",
    "\n",
    "# Lists can be accessed, manipulated in two differant ways\n",
    "    # Direct Referencing - [index]\n",
    "    # Indirect Referencing - through function\n",
    "    \n",
    "li.append(456) # Adding an element to end of the list\n",
    "\n",
    "li.insert(1,234) # Adding Element at a particular position\n",
    "\n",
    "li.sort() # Sort elements in ascending order\n",
    "\n",
    "li.pop() # Removes the last element in a list\n",
    "\n",
    "\n",
    "li.pop(1) # Removes an element at a particular position\n",
    "\n",
    "li1 = [234, 345, 456]\n",
    "\n",
    "li.extend(li1) # Merge li1 into li\n",
    "\n",
    "sum(li) # Calculates the total sum elements in a given list\n",
    "\n",
    "max(li) # Accessing the max element in a list\n",
    "\n",
    "len(li) # Access the lenght of elements in a given list\n",
    "\n",
    "sum(li)/len(li) # Average of list of elements\n",
    "\n",
    "sum(li[1::2])/len(li[1::2]) # Average of alternate elements\n",
    "\n",
    "min(li)\n",
    "li\n",
    "\n",
    "#\n",
    "li[4] = 112\n",
    "li\n",
    "max(li[::2])\n"
   ]
  },
  {
   "cell_type": "code",
   "execution_count": 34,
   "metadata": {},
   "outputs": [
    {
     "data": {
      "text/plain": [
       "100"
      ]
     },
     "execution_count": 34,
     "metadata": {},
     "output_type": "execute_result"
    }
   ],
   "source": [
    "# Function to identify the second largest element in a list\n",
    "    # sort the data and select the second last element\n",
    "    # sort the data in reverse order and select the second element\n",
    "    # remove the max element and the get the max element\n",
    "    \n",
    "li = [234,123,100,456]\n",
    "def secondLargest(li):\n",
    "    li.sort()\n",
    "    return (li[-2])\n",
    "secondLargest(li)\n",
    "    \n",
    "# Function that returns the nth largest\n",
    "def genericLargest(li, n):\n",
    "    li.sort()\n",
    "    return li[-n]\n",
    "genericLargest(li,4)"
   ]
  },
  {
   "cell_type": "code",
   "execution_count": 49,
   "metadata": {},
   "outputs": [
    {
     "data": {
      "text/plain": [
       "-1"
      ]
     },
     "execution_count": 49,
     "metadata": {},
     "output_type": "execute_result"
    }
   ],
   "source": [
    "# Function to search for data in a list\n",
    "# Search for the key in the list and return the \n",
    "def linearSearch(li,key):\n",
    "    for index in range(0, len(li)):\n",
    "        if li[index] == key:\n",
    "            return index\n",
    "    return -1\n",
    "\n",
    "def linearSearch2(li, key):\n",
    "    for element in li:\n",
    "        if element == key:\n",
    "            return li.index(element)\n",
    "    return -1\n",
    "\n",
    "#def linearSearch3(li, key):\n",
    "    if key in li:\n",
    "        return li.index(key)\n",
    "    return -1\n",
    "\n",
    "linearSearch(li,500)\n"
   ]
  },
  {
   "cell_type": "code",
   "execution_count": 54,
   "metadata": {},
   "outputs": [
    {
     "data": {
      "text/plain": [
       "1"
      ]
     },
     "execution_count": 54,
     "metadata": {},
     "output_type": "execute_result"
    }
   ],
   "source": [
    "# Function to count the occurances of a character in a string\n",
    "# \"Python Programming\", m -> 2\n",
    "\n",
    "def countCharOccurances(s,c):\n",
    "    count = 0\n",
    "    for ch in s:\n",
    "        if ch == c:\n",
    "            count += 1\n",
    "    return count\n",
    "\n",
    "def countCharOccurances2(s, c):\n",
    "    return s.count(c)\n",
    "\n",
    "countCharOccurances(\"Python Programming\", 'y')\n",
    "\n",
    "# Function to find the no'f occurances of a sub string in string\n",
    "# \"abcabcddcba\" ,\"ab\" -> 2\n",
    "\n"
   ]
  },
  {
   "cell_type": "code",
   "execution_count": null,
   "metadata": {},
   "outputs": [],
   "source": []
  }
 ],
 "metadata": {
  "kernelspec": {
   "display_name": "Python 3",
   "language": "python",
   "name": "python3"
  },
  "language_info": {
   "codemirror_mode": {
    "name": "ipython",
    "version": 3
   },
   "file_extension": ".py",
   "mimetype": "text/x-python",
   "name": "python",
   "nbconvert_exporter": "python",
   "pygments_lexer": "ipython3",
   "version": "3.7.3"
  }
 },
 "nbformat": 4,
 "nbformat_minor": 2
}
